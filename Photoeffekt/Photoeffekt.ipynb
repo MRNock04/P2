{
 "cells": [
  {
   "cell_type": "markdown",
   "id": "89066e31-faf3-4ac9-a78a-a364e066ca84",
   "metadata": {},
   "source": [
    "# Fakultät für Physik\n",
    "\n",
    "## Physikalisches Praktikum P2 für Studierende der Physik\n",
    "\n",
    "Versuch P2-63, 64, 65 (Stand: April 2024)\n",
    "\n",
    "[Raum F1-08](https://labs.physik.kit.edu/img/Praktikum/Lageplan_P2.png)\n",
    "\n",
    "\n",
    "\n",
    "# Photoeffekt"
   ]
  },
  {
   "cell_type": "markdown",
   "id": "27cf71fa-c60c-45ed-a885-790064eb1939",
   "metadata": {},
   "source": [
    "Name: __________________ Vorname: __________________ E-Mail: __________________\n",
    "\n",
    "\\begin{equation*}\n",
    "\\begin{split}\n",
    "&\\\\\n",
    "&\\\\\n",
    "\\end{split}\n",
    "\\end{equation*}\n",
    "\n",
    "Name: __________________ Vorname: __________________ E-Mail: __________________\n",
    "\n",
    "\\begin{equation*}\n",
    "\\begin{split}\n",
    "&\\\\\n",
    "&\\\\\n",
    "&\\\\\n",
    "\\end{split}\n",
    "\\end{equation*}\n",
    "\n",
    "Gruppennummer: _____\n",
    "\n",
    "\\begin{equation*}\n",
    "\\begin{split}\n",
    "&\\\\\n",
    "&\\\\\n",
    "&\\\\\n",
    "\\end{split}\n",
    "\\end{equation*}\n",
    "\n",
    "\n",
    "Betreuer: __________________\n",
    "\n",
    "\\begin{equation*}\n",
    "\\begin{split}\n",
    "&\\\\\n",
    "&\\\\\n",
    "&\\\\\n",
    "\\end{split}\n",
    "\\end{equation*}\n",
    "\n",
    "Versuch durchgeführt am: __________________"
   ]
  },
  {
   "cell_type": "markdown",
   "id": "937b583d-19fe-43ae-8a04-df6f69389672",
   "metadata": {},
   "source": [
    "---\n",
    "\n",
    "**Beanstandungen:**\n",
    "\n",
    "\\begin{equation*}\n",
    "\\begin{split}\n",
    "&\\\\\n",
    "&\\\\\n",
    "&\\\\\n",
    "&\\\\\n",
    "&\\\\\n",
    "&\\\\\n",
    "&\\\\\n",
    "&\\\\\n",
    "&\\\\\n",
    "&\\\\\n",
    "\\end{split}\n",
    "%\\text{\\vspace{10cm}}\n",
    "\\end{equation*}\n",
    "\n",
    "<br>\n",
    "Testiert am: __________________ Testat: __________________"
   ]
  },
  {
   "cell_type": "markdown",
   "id": "9f649150-8b74-49d3-83fb-1facbc06934d",
   "metadata": {},
   "source": [
    "# Durchführung\n",
    "\n",
    "**Die Anleitung zu diesem Versuch finden Sie [hier](https://gitlab.kit.edu/kit/etp-lehre/p2-praktikum/students/-/blob/main/Photoeffekt/README.md).**"
   ]
  },
  {
   "cell_type": "markdown",
   "id": "f6193e61-35b0-4147-ba5b-cc9369e5b192",
   "metadata": {
    "jp-MarkdownHeadingCollapsed": true,
    "tags": []
   },
   "source": [
    "## Aufgabe 1: Grundlagen\n",
    "\n",
    "**Hinweise zu Aufgabe 1 finden in der Datei [Hinweise-Versuchsdurchfuehrung.md](https://gitlab.kit.edu/kit/etp-lehre/p2-praktikum/students/-/blob/main/Photoeffekt/doc/Hinweise-Versuchsdurchfuehrung.md).**\n",
    "\n",
    " * Machen Sie sich mit dem zu untersuchenden Effekt und der Art, wie Sie ihn beobachten und messen werden vertraut. \n",
    " * Bearbeiten Sie hierzu die folgenden Aufgaben."
   ]
  },
  {
   "cell_type": "markdown",
   "id": "64fe330f-c7d1-41e0-91af-a4b379848e20",
   "metadata": {
    "jp-MarkdownHeadingCollapsed": true,
    "tags": []
   },
   "source": [
    "### Aufgabe 1.1: Qualitative Beobachtung des äußeren photoelektrischen Effekts\n",
    "\n",
    "Beobachten Sie den äußeren Photoeffekt mit Hilfe des bereitstehenden statischen Elektrometers (E), der $\\mathrm{Zn}$-Platte (Zn) und der $\\mathrm{Hg}$-Dampflampe (Hg) qualitativ. Gehen Sie dabei wie folgt vor: \n",
    "\n",
    " * Laden Sie Zn negativ auf und beobachten, Sie E ohne Zn mit Hg zu bestrahlen. \n",
    " * Laden Sie Zn negativ auf und beobachten, Sie E, wenn Sie Zn mit Hg bestrahlen.\n",
    " * Laden Sie Zn negativ auf und beobachten, Sie E, wenn Sie Zn mit Hg bestrahlen und zusätzlich eine positiv geladene Elektrode in die Nähe von Zn bringen.\n",
    " * Laden Sie Zn positiv auf und beobachten, Sie E, wenn Sie Zn mit Hg bestrahlen.\n",
    "\n",
    "Beschreiben und erklären Sie Ihre Beobachtungen. \n",
    "\n",
    "---"
   ]
  },
  {
   "cell_type": "markdown",
   "id": "32ef6302-1c01-40d7-9c83-ea5c664f14a0",
   "metadata": {},
   "source": [
    "**Lösung:**\n",
    "\n",
    "*Fügen Sie Ihre Lösung zu dieser Aufgabe hier ein. Löschen Sie hierzu diesen kursiv gestellten Text aus dem Dokument. Um Code-Fragmente und Skripte in [Python](https://www.python.org/), sowie ggf. bildliche Darstellungen direkt ins [Jupyter notebook](https://jupyter.org/) einzubinden fügen Sie dem notebook eine Code-Zelle zu.* \n",
    "\n",
    "---"
   ]
  },
  {
   "cell_type": "markdown",
   "id": "660733e2-8145-4f32-9654-08c0f45b56b9",
   "metadata": {
    "jp-MarkdownHeadingCollapsed": true,
    "tags": []
   },
   "source": [
    "### Aufgabe 1.2: Charakterisierung des für die folgenden Aufgaben zu verwendenden Elektrometers\n",
    "\n",
    " * Nehmen Sie einen Nullabgleich des für **Aufgabe 2** zu verwendenden Elektrometers vor. \n",
    " * Bestimmen Sie den Innenwiderstand $R_{i}$ des Elektrometers mit Hilfe der vorhandenen Vorwiderstände von $R_{V}=0.1,\\, 1$ und $10\\,\\mathrm{G\\Omega}$. \n",
    "\n",
    "---"
   ]
  },
  {
   "cell_type": "markdown",
   "id": "dcb3d760-7527-4b14-b5f5-ced25fb0258a",
   "metadata": {},
   "source": [
    "**Lösung:**\n",
    "\n",
    "*Fügen Sie Ihre Lösung zu dieser Aufgabe hier ein. Löschen Sie hierzu diesen kursiv gestellten Text aus dem Dokument. Um Code-Fragmente und Skripte in [Python](https://www.python.org/), sowie ggf. bildliche Darstellungen direkt ins [Jupyter notebook](https://jupyter.org/) einzubinden fügen Sie dem notebook eine Code-Zelle zu.* \n",
    "\n",
    "---"
   ]
  },
  {
   "cell_type": "markdown",
   "id": "6d7d2608-13c8-4244-98f6-978666bfeaba",
   "metadata": {
    "jp-MarkdownHeadingCollapsed": true,
    "tags": []
   },
   "source": [
    "## Aufgabe 2: Bestimmung von $h$\n",
    "\n",
    "**Hinweise zu Aufgabe 1 finden in der Datei [Hinweise-Versuchsdurchfuehrung.md](https://gitlab.kit.edu/kit/etp-lehre/p2-praktikum/students/-/blob/main/Photoeffekt/doc/Hinweise-Versuchsdurchfuehrung.md).**\n",
    "\n",
    " - Bestimmen Sie $h$ aus dem äußeren photoelektrischen Effekt mit Hilfe von zwei verschiedenen Schaltungen. \n",
    " - Bearbeiten Sie hierzu die folgenden Aufgaben."
   ]
  },
  {
   "cell_type": "markdown",
   "id": "8265f1be-61c4-4334-be19-699e469c3398",
   "metadata": {
    "jp-MarkdownHeadingCollapsed": true,
    "tags": []
   },
   "source": [
    "### Aufgabe 2.1: Spannung $U_{\\mathrm{Ph}}$ der Photozelle bei variierender Lichtfrequenz\n",
    "\n",
    " * Tragen Sie die sich von selbst einstellende maximale Spannung $U_{\\mathrm{Ph}}$ der Photozelle bei Bestrahlung mit Licht der Wellenlängen $\\lambda_{\\mathrm{CWL}}^{(i)}$ bei maximaler Lichtintensivität auf. \n",
    " * Verwenden Sie die folgenden sechs Wellenlängen der zur Verfügung stehenden Filter: $\\lambda_{\\mathrm{CWL}}^{(i)} = 360,\\,400,\\,440,\\,490,\\,540,\\,590\\,\\mathrm{nm}$.\n",
    " * Bestimmen Sie $h$ durch Anpassung eines geeigneten Modells.\n",
    "\n",
    "---"
   ]
  },
  {
   "cell_type": "markdown",
   "id": "13def5a7-a0e5-4099-8465-fe63f5f654e1",
   "metadata": {},
   "source": [
    "**Lösung:**\n",
    "\n",
    "*Fügen Sie Ihre Lösung zu dieser Aufgabe hier ein. Löschen Sie hierzu diesen kursiv gestellten Text aus dem Dokument. Um Code-Fragmente und Skripte in [Python](https://www.python.org/), sowie ggf. bildliche Darstellungen direkt ins [Jupyter notebook](https://jupyter.org/) einzubinden fügen Sie dem notebook eine Code-Zelle zu.* \n",
    "\n",
    "---"
   ]
  },
  {
   "cell_type": "markdown",
   "id": "3edf8c1a-8093-424d-b71c-ffed083c79a8",
   "metadata": {
    "jp-MarkdownHeadingCollapsed": true,
    "tags": []
   },
   "source": [
    "### Aufgabe 2.2: Photostrom $I_{\\mathrm{Ph}}$ als Funktion einer angelegten externen Spannung $U_{o}$ bei variierender Lichtintensität\n",
    "\n",
    " - Tragen Sie für $\\lambda_{\\mathrm{CWL}}=400\\,\\mathrm{nm}$ den Photostrom $I_{\\mathrm{Ph}}$ als Funktion einer angelegten externen Spannung $U_{o}$ auf.\n",
    " - Bestimmen Sie durch Anpassung eines geeigneten Modells den Wert von $U(I_{\\mathrm{Ph}}=0)$ im Nahbereich des Nulldurchgangs. \n",
    " - Folgen Sie den vorgenannten Punkten einmal für die maximale und einmal für eine bei mittels eines Graufilters reduzierte Lichtintensität. \n",
    " - Bestimmen Sie die Abnahme der Lichtintensität durch den Filter.\n",
    "\n",
    "---"
   ]
  },
  {
   "cell_type": "markdown",
   "id": "824ddc4d-ac26-44c1-8c69-e90313d52617",
   "metadata": {},
   "source": [
    "**Lösung:**\n",
    "\n",
    "*Fügen Sie Ihre Lösung zu dieser Aufgabe hier ein. Löschen Sie hierzu diesen kursiv gestellten Text aus dem Dokument. Um Code-Fragmente und Skripte in [Python](https://www.python.org/), sowie ggf. bildliche Darstellungen direkt ins [Jupyter notebook](https://jupyter.org/) einzubinden fügen Sie dem notebook eine Code-Zelle zu.* \n",
    "\n",
    "---"
   ]
  },
  {
   "cell_type": "markdown",
   "id": "0ba91206-e004-4c1a-b373-2e67f979a67c",
   "metadata": {
    "jp-MarkdownHeadingCollapsed": true,
    "tags": []
   },
   "source": [
    "### Aufgabe 2.3: Spannung $U_{o}(I_{\\mathrm{Ph}}=0)$ bei variierender Lichtfrequenz\n",
    "\n",
    " * Bestimmen Sie für die in **Aufgabe 2.1** verwendeten Wellenlängen $\\lambda^{(i)}_{\\mathrm{CWL}}$ jeweils die Spannung $U^{(i)}(I_{\\mathrm{}Ph}=0)$. \n",
    " * Bestimmen Sie $h$ durch Anpassung eines geeigneten Modells und vergleichen Sie mit dem Ergebnis aus **Aufgabe 2.1**.\n",
    " \n",
    "---"
   ]
  },
  {
   "cell_type": "markdown",
   "id": "cc29074d-9701-4ec1-ae6a-79d9e4b6f6e9",
   "metadata": {},
   "source": [
    "**Lösung:**\n",
    "\n",
    "*Fügen Sie Ihre Lösung zu dieser Aufgabe hier ein. Löschen Sie hierzu diesen kursiv gestellten Text aus dem Dokument. Um Code-Fragmente und Skripte in [Python](https://www.python.org/), sowie ggf. bildliche Darstellungen direkt ins [Jupyter notebook](https://jupyter.org/) einzubinden fügen Sie dem notebook eine Code-Zelle zu.* \n",
    "\n",
    "---"
   ]
  }
 ],
 "metadata": {
  "kernelspec": {
   "display_name": "Python 3 (ipykernel)",
   "language": "python",
   "name": "python3"
  },
  "language_info": {
   "codemirror_mode": {
    "name": "ipython",
    "version": 3
   },
   "file_extension": ".py",
   "mimetype": "text/x-python",
   "name": "python",
   "nbconvert_exporter": "python",
   "pygments_lexer": "ipython3",
   "version": "3.10.12"
  }
 },
 "nbformat": 4,
 "nbformat_minor": 5
}
