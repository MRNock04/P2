{
 "cells": [
  {
   "cell_type": "markdown",
   "id": "43c4d6fe-897d-4fdb-84da-b4384d10427e",
   "metadata": {},
   "source": [
    "# Fakultät für Physik\n",
    "\n",
    "## Physikalisches Praktikum P2 für Studierende der Physik\n",
    "\n",
    "Versuch P2-13 (Stand: Mai 2024)\n",
    "\n",
    "[Raum F1-09](https://labs.physik.kit.edu/img/Praktikum/Lageplan_P2.png)\n",
    "\n",
    "\n",
    "\n",
    "# Interferenz"
   ]
  },
  {
   "cell_type": "markdown",
   "id": "6ca70867-09b7-48ad-bc9f-bc310ede3423",
   "metadata": {},
   "source": [
    "Tin Vrkic E-Mail: uyvpq@studen.kit.edu\n",
    "\n",
    "\\begin{equation*}\n",
    "\\begin{split}\n",
    "&\\\\\n",
    "&\\\\\n",
    "\\end{split}\n",
    "\\end{equation*}\n",
    "\n",
    "Mika Noch E-Mail: uttzi@student.kit.edu\n",
    "\n",
    "\\begin{equation*}\n",
    "\\begin{split}\n",
    "&\\\\\n",
    "&\\\\\n",
    "&\\\\\n",
    "\\end{split}\n",
    "\\end{equation*}\n",
    "\n",
    "Gruppennummer: Mo32\n",
    "\n",
    "\\begin{equation*}\n",
    "\\begin{split}\n",
    "&\\\\\n",
    "&\\\\\n",
    "&\\\\\n",
    "\\end{split}\n",
    "\\end{equation*}\n",
    "\n",
    "\n",
    "Betreuer: Shuran Liu\n",
    "\n",
    "\\begin{equation*}\n",
    "\\begin{split}\n",
    "&\\\\\n",
    "&\\\\\n",
    "&\\\\\n",
    "\\end{split}\n",
    "\\end{equation*}\n",
    "\n",
    "Versuch durchgeführt am: 27.06.2024"
   ]
  },
  {
   "cell_type": "markdown",
   "id": "89523bc7-aca2-427d-9652-c46a8f84d904",
   "metadata": {},
   "source": [
    "---\n",
    "\n",
    "**Beanstandungen zu Protokoll Version _____:**\n",
    "\n",
    "\\begin{equation*}\n",
    "\\begin{split}\n",
    "&\\\\\n",
    "&\\\\\n",
    "&\\\\\n",
    "&\\\\\n",
    "&\\\\\n",
    "&\\\\\n",
    "&\\\\\n",
    "&\\\\\n",
    "&\\\\\n",
    "&\\\\\n",
    "\\end{split}\n",
    "%\\text{\\vspace{10cm}}\n",
    "\\end{equation*}\n",
    "\n",
    "<br>\n",
    "Testiert am: __________________ Testat: __________________"
   ]
  },
  {
   "cell_type": "markdown",
   "id": "7101939b-254f-4cd7-a13d-1387665201de",
   "metadata": {
    "tags": []
   },
   "source": [
    "# Durchführung\n",
    "\n",
    "**Die Anleitung zu diesem Versuch finden Sie [hier](https://gitlab.kit.edu/kit/etp-lehre/p2-praktikum/students/-/blob/main/Interferenz/README.md).**"
   ]
  },
  {
   "cell_type": "code",
   "execution_count": 1,
   "id": "8c0683f2",
   "metadata": {},
   "outputs": [],
   "source": [
    "import numpy as np\n",
    "import matplotlib.pyplot as plt\n",
    "import pandas as pd\n",
    "import kafe2\n",
    "from uncertainties import ufloat, unumpy as unp\n",
    "import pathlib"
   ]
  },
  {
   "cell_type": "code",
   "execution_count": 2,
   "id": "e579be5a",
   "metadata": {},
   "outputs": [],
   "source": [
    "# erstellen einer Funktion für kafe2 Fits\n",
    "def fit_funktion(xy_data, model_function, xy_error, xy_label, title, constraint=[], add_error=True):\n",
    "    xy_data = kafe2.XYContainer(xy_data[0], xy_data[1])\n",
    "    xy_data.label = title\n",
    "    fit = kafe2.XYFit(xy_data = xy_data, model_function = model_function)\n",
    "    if add_error:\n",
    "        fit.add_error(axis = 'x', err_val = xy_error[0])\n",
    "        fit.add_error(axis = 'y', err_val = xy_error[1])\n",
    "    for i in range(len(constraint)):\n",
    "        fit.add_parameter_constraint(name = constraint[i][0], value = constraint[i][1], uncertainty = constraint[i][2])\n",
    "    fit.do_fit()\n",
    "    plot = kafe2.Plot(fit)\n",
    "    plot.x_label, plot.y_label = xy_label[0], xy_label[1]\n",
    "    \n",
    "    return fit.parameter_values, fit.parameter_errors, plot"
   ]
  },
  {
   "cell_type": "markdown",
   "id": "b8b1a694-a563-4441-8dc4-208c2d490039",
   "metadata": {
    "jp-MarkdownHeadingCollapsed": true,
    "tags": []
   },
   "source": [
    "## Aufgabe 1: Newtonsche Ringe\n",
    "\n",
    "**Hinweise zu Aufgabe 1 finden in der Datei [Hinweise-Versuchsdurchfuehrung.md](https://gitlab.kit.edu/kit/etp-lehre/p2-praktikum/students/-/blob/main/Interferenz/doc/Hinweise-Versuchsdurchfuehrung.md).**\n",
    "\n",
    " * Bestimmen Sie den Brechungsindex von Wasser, sowie den Brechungsindex der verwendeten Linse durch die Beobachtung von Newtonschen Ringen.\n",
    " * Bearbeiten Sie hierzu die folgenden Aufgaben.\n",
    " \n",
    "---"
   ]
  },
  {
   "cell_type": "markdown",
   "id": "af793a24-0bd5-4bcc-9c7a-9810f323e95d",
   "metadata": {
    "jp-MarkdownHeadingCollapsed": true,
    "tags": []
   },
   "source": [
    "### Aufgabe 1.1 Krümmungsradius $R$ einer ausgewählten Linse\n",
    "\n",
    "Bestimmen Sie den Krümmungsradius $R$ einer symmetrischen, sphärischen, plankonvexen Linse aus der Beobachtung der Newtonschen Ringe unter dem Mikroskop.\n",
    "\n",
    "---"
   ]
  },
  {
   "cell_type": "code",
   "execution_count": 56,
   "id": "08e443a1",
   "metadata": {},
   "outputs": [
    {
     "data": {
      "image/png": "[encoded data removed]",
      "text/plain": [
       "<Figure size 640x480 with 1 Axes>"
      ]
     },
     "metadata": {},
     "output_type": "display_data"
    }
   ],
   "source": [
    "radien_newton_gelb = unp.uarray([ 23.4-23.0 , 23.5-22.8 , 23.6-22.7 , 23.7-22.65 , 23.72-22.6, 23.73-22.5 ],[0.2 , 0.25 , 0.15, 0.1 , 0.1 , 0.1 , ]) * 10**(-3)/ 2  #meter\n",
    "radien_newton_blau = unp.uarray([ 22.2-21.9 , 22.3-21.7 , 22.3-21.5 , 22.3-21.4 , 22.4-21.5],[0.15]) * 10**(-3)/ 2  #meter\n",
    "radien_newton_wasser = unp.uarray([ 23.0-22.5 , 23.1-22.5 , 23.1-22.4 , 23.2-22.4 , 23.2-22.4],[0.15]) * 10**(-3)/ 2  #meter , mit gelbem Licht\n",
    "\n",
    "plt.errorbar(np.arange(unp.nominal_values(radien_newton_gelb).size) , unp.nominal_values(radien_newton_gelb), yerr=unp.std_devs(radien_newton_gelb),  fmt=\"yx\", label=\"gelb\")\n",
    "plt.errorbar(np.arange(unp.nominal_values(radien_newton_blau).size) , unp.nominal_values(radien_newton_blau), yerr=unp.std_devs(radien_newton_blau),  fmt=\"bx\", label=\"blau\")\n",
    "plt.errorbar(np.arange(unp.nominal_values(radien_newton_wasser).size) , unp.nominal_values(radien_newton_wasser), yerr=unp.std_devs(radien_newton_wasser),  fmt=\"gx\", label=\"Wasser, gelb\")\n",
    "plt.legend()\n",
    "plt.show()"
   ]
  },
  {
   "cell_type": "markdown",
   "id": "aa8fdeb3-fc66-4d26-8097-65249ccc5498",
   "metadata": {},
   "source": []
  },
  {
   "cell_type": "markdown",
   "id": "045a4144-5e57-48fe-a3e9-7643333a7869",
   "metadata": {
    "jp-MarkdownHeadingCollapsed": true,
    "tags": []
   },
   "source": [
    "### Aufgabe 1.2 Brechungsindex $n(\\mathrm{H_{2}O})$ von Wasser\n",
    "\n",
    "Bestimmen Sie den Brechungsindex $n(\\mathrm{H_{2}O})$ von Wasser aus den veränderten Durchmessern der Newtonschen Ringe, wenn sich zwischen Linse und Objektträger Wasser statt Luft befindet.\n",
    "\n",
    "---"
   ]
  },
  {
   "cell_type": "markdown",
   "id": "b1ebbe81",
   "metadata": {},
   "source": [
    "\n",
    "bei 1.1"
   ]
  },
  {
   "cell_type": "markdown",
   "id": "f6d7f4bf-eee9-45a0-909e-04f3c7b54b58",
   "metadata": {
    "jp-MarkdownHeadingCollapsed": true,
    "tags": []
   },
   "source": [
    "### Aufgabe 1.3 Brechungsindex $n_{L}$ der verwendeten Linse\n",
    "\n",
    " * Bestimmen Sie den Brechungsindex $n_{L}$ der verwendeten Linse. \n",
    " * Bestimmen Sie hierzu zusätzlich zu $R$ die Brennweite $f$ der Linse mit Hilfe eines Aufbaus zur [Autokollimation](https://de.wikipedia.org/wiki/Autokollimation).\n",
    "\n",
    "---"
   ]
  },
  {
   "cell_type": "code",
   "execution_count": 64,
   "id": "031c37f4-e643-4f2e-a2c9-0f2504b3c88f",
   "metadata": {},
   "outputs": [
    {
     "data": {
      "text/plain": [
       "[<matplotlib.lines.Line2D at 0x7f11baf03290>]"
      ]
     },
     "execution_count": 64,
     "metadata": {},
     "output_type": "execute_result"
    },
    {
     "data": {
      "image/png": "[encoded data removed]",
      "text/plain": [
       "<Figure size 640x480 with 1 Axes>"
      ]
     },
     "metadata": {},
     "output_type": "display_data"
    }
   ],
   "source": [
    "f = unp.uarray([1.5-1.354, 1.5-1.3535, 1.5-1.353],[0.0015])\n",
    "plt.plot(unp.nominal_values(f),'r.')"
   ]
  },
  {
   "cell_type": "markdown",
   "id": "12300847-62f2-4d83-8cb8-1eced9707146",
   "metadata": {
    "jp-MarkdownHeadingCollapsed": true,
    "tags": []
   },
   "source": [
    "## Aufgabe 2: Messungen mit dem Gitterspektrometer\n",
    "\n",
    "**Hinweise zu Aufgabe 2 finden in der Datei [Hinweise-Versuchsdurchfuehrung.md](https://gitlab.kit.edu/kit/etp-lehre/p2-praktikum/students/-/blob/main/Interferenz/doc/Hinweise-Versuchsdurchfuehrung.md).**\n",
    "\n",
    " * Bestimmen Sie Wellenlängen die dominanten Spektrallinien einer $\\mathrm{Na}$- und einer $\\mathrm{Zn}$-Spektrallampe mit Hilfe eines Gitterspektrometers.\n",
    " * Bearbeiten Sie hierzu die folgenden Aufgaben.\n",
    " \n",
    "---\n"
   ]
  },
  {
   "cell_type": "markdown",
   "id": "7fab0ede-8ca3-4fae-9fb5-d0a814775951",
   "metadata": {
    "jp-MarkdownHeadingCollapsed": true,
    "tags": []
   },
   "source": [
    "### Aufgabe 2.1: Justierung der Apparatur\n",
    "\n",
    " * Justieren Sie die Apparatur. \n",
    " * Beschreiben Sie Ihr Vorgehen und dokumentieren Sie die wichtigsten numerischen Einstellungen. \n",
    "\n",
    "---"
   ]
  },
  {
   "cell_type": "markdown",
   "id": "ae91a987-ff6a-43e3-b31c-926658f6a76c",
   "metadata": {},
   "source": [
    "alles genullt digga\n",
    "Spalt 4mm"
   ]
  },
  {
   "cell_type": "markdown",
   "id": "7e98c85d-ca9b-4d50-a88f-1cc511dcf51c",
   "metadata": {
    "jp-MarkdownHeadingCollapsed": true,
    "tags": []
   },
   "source": [
    "### Aufgabe 2.2: Bestimmung der Gitterkonstanten $g$ eines Gitters. \n",
    "\n",
    " * Bestimmen Sie die Gitterkonstante $g$ des Gitter mit ${\\approx}600$ Strichen pro $\\mathrm{mm}$ mit Hilfe der $\\mathrm{Na}$-Spektrallampe\n",
    " * Beachten Sie die Hinweise zu dieser Teilaufgabe in der Datei [Hinweise-Versuchsdurchfuehrung.md](https://gitlab.kit.edu/kit/etp-lehre/p2-praktikum/students/-/blob/main/Interferenz/doc/Hinweise-Versuchsdurchfuehrung.md) und beantworten Sie zur Vorbereitung der Messung die folgenden Fragen: \n",
    "     1. Unter welchen Winkeln erwarten Sie die Hauptmaxima?\n",
    "     2. Werden diese u.U. durch Minima des Beugungsbilds am Einzelspalt ausgelöscht?\n",
    "     3. Welche Breite erwarten Sie für die Maxima?\n",
    "     4. Welches Intensitätsverhältnis erwarten Sie für die Maxima?\n",
    "     5. Mit welcher Breite müssen Sie das Gitter beleuchten, um die $\\mathrm{Na}$-D-Linien auflösen zu können?\n",
    " \n",
    "---"
   ]
  },
  {
   "cell_type": "code",
   "execution_count": null,
   "id": "fce385a2-836c-44e9-86da-e06a44012bfd",
   "metadata": {},
   "outputs": [],
   "source": [
    "# In Grad + restl. Minuten, Umrechnung Minuten -> Grad: ()/60\n",
    "# Gemessen wurde für 1. und 2. Maximum jeweils die linke Linie\n",
    "na_doppellinie_grad_links = unp.uarray( [ 20.5 + 12/60 , 44.5 + 8/60 ] , [0.1] ) # Grad, Minuten, Min -> Grad: ()/60, Mitte der Linien\n",
    "na_doppellinie_grad_rechts = unp.uarray( [ 338.5 + 13/60 - 360 , 313 + 9/60 - 360 ] , [0.1] ) # Grad, Minuten, Min -> Grad: ()/60, Mitte der Linien"
   ]
  },
  {
   "cell_type": "markdown",
   "id": "0b3cb79c-2146-4afd-a80c-5f5a6e8772bb",
   "metadata": {
    "jp-MarkdownHeadingCollapsed": true,
    "tags": []
   },
   "source": [
    "### Aufgabe 2.3 Vermessung der $\\mathrm{Na}$-D-Doppellinie\n",
    "\n",
    " * Bestimmen Sie den Wellenlängenabstand der [$\\mathrm{Na}$-D-Doppellinie](https://de.wikipedia.org/wiki/Natrium-D-Linie).\n",
    " * Verwenden Sie hierzu das Gitter von **Aufgabe 2.2** und die Feineinstellung der Winkelskala am Spektrometer. Beachten Sie, dass diese Skala zuvor geeicht werden muss.\n",
    "\n",
    "---"
   ]
  },
  {
   "cell_type": "code",
   "execution_count": null,
   "id": "8a3d1fdb-12b3-4dba-8433-178dc5a9811a",
   "metadata": {},
   "outputs": [],
   "source": [
    "# Wellenlängenabstand (2.3): Gemessen werden Winkel, unter denen beide Linien der Na-D-Doppellinie erscheinen, für das 2. Maximum rechts und links\n",
    "# erster Eintrag die kürzere Wellenlänge / kleinerer Winkel, zweiter längere Wellenlänge\n",
    "na_doppellinie_2_3 = unp.uarray([ [44.5 + 7/60 , 44.5 + 11/60] , [ 313.0 + 12/60 - 360 , 313.0 + 7/60 - 360 ] ], [0.1])"
   ]
  },
  {
   "cell_type": "markdown",
   "id": "aa0fdc9d-92b6-434d-902a-e7a0818edab6",
   "metadata": {
    "jp-MarkdownHeadingCollapsed": true,
    "tags": []
   },
   "source": [
    "### Aufgabe 2.4 Bestimmung der Gitterkonstanten $g'$ eines zweiten Gitters\n",
    "\n",
    " * Bestimmen Sie die Gitterkonstante $g'$ eines zweiten Gitters mit ${\\approx}140$ Strichen pro $\\mathrm{mm}$.\n",
    " * Beachten Sie die Hinweise zu dieser Teilaufgabe in der Datei [Hinweise-Versuchsdurchfuehrung.md](https://gitlab.kit.edu/kit/etp-lehre/p2-praktikum/students/-/blob/main/Interferenz/doc/Hinweise-Versuchsdurchfuehrung.md) und beantworten Sie in Ihrer Auswertung die folgenden Fragen: \n",
    "    1. Das Gitter kann bis bis zu 6. Ordnung mit monoton abnehmender Intensität in jeder Ordnung beobachtet werden. Was lässt sich aus dieser Beobachtung über $b$ schlussfolgern?\n",
    "    2. Von welcher Ordnung ab ist die $\\mathrm{Na}$-D-Linie getrennt beobachtbar?\n",
    "    3. Ist Ihre Beobachtung konsistent mit dem erwarteten Auflösungsvermögen?\n",
    "\n",
    "---"
   ]
  },
  {
   "cell_type": "markdown",
   "id": "94987a32",
   "metadata": {},
   "source": [
    "Von der 2. beobachtbar"
   ]
  },
  {
   "cell_type": "code",
   "execution_count": null,
   "id": "9fe6a015-bcdd-41e6-bfc8-bed03dbc7faa",
   "metadata": {},
   "outputs": [],
   "source": [
    "# Gemessen Winkel nur der D-Linien, wieder die Mitte, bis zur 3. Ordnung, jeweils rechts und links der Mitte\n",
    "g2_links = unp.uarray([ 5.0 + 23/60 , 10.5 + 26/60 , 16.5 + 8/60], [0.1])\n",
    "g2_rechts = unp.uarray([ 344.0 + 22/60 - 360 , 348.5 + 19/60 - 360 , 343.0 + 9/60 - 360], [0.1])"
   ]
  },
  {
   "cell_type": "markdown",
   "id": "b1367bf8-7e56-4457-9abf-6733b40a008f",
   "metadata": {
    "jp-MarkdownHeadingCollapsed": true,
    "tags": []
   },
   "source": [
    "### Aufgabe 2.5: Linienspektrum der $\\mathrm{Zn}$-Spektrallampe\n",
    "\n",
    " * Bestimmen Sie die Wellenlängen der vier deutlich erkennbaren Linien der $\\mathrm{Zn}$-Spektrallampe. Die Farben sind violettblau, blau, blaugrün und rot. \n",
    " * Begründen und dokumentieren Sie Ihre Wahl der Mittel und der Methode in Ihrer Auswertung.\n",
    "\n",
    "---"
   ]
  },
  {
   "cell_type": "code",
   "execution_count": null,
   "id": "681c9059-512c-4300-a0c4-52d9dd1d7258",
   "metadata": {},
   "outputs": [],
   "source": [
    "# von violettblau nach rot, absteigende Wellenlänge\n",
    "zn_links = unp.uarray([ 16.0 + 20/60 , 16.5 + 28/60 , 16.5 + 18/60 , 22.5 + 0/60 ])\n",
    "zn_rechts = unp.uarray([ 343.0 + 21/60 - 360 , 343.0 + 15/60 - 360 , 342.5 + 23/60 - 360 , 337.0 + 7/60 - 360 ])"
   ]
  }
 ],
 "metadata": {
  "kernelspec": {
   "display_name": "Python 3 (ipykernel)",
   "language": "python",
   "name": "python3"
  },
  "language_info": {
   "codemirror_mode": {
    "name": "ipython",
    "version": 3
   },
   "file_extension": ".py",
   "mimetype": "text/x-python",
   "name": "python",
   "nbconvert_exporter": "python",
   "pygments_lexer": "ipython3",
   "version": "3.11.7"
  }
 },
 "nbformat": 4,
 "nbformat_minor": 5
}
