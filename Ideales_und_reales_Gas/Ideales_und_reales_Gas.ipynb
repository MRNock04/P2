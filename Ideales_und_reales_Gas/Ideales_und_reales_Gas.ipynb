{
 "cells": [
  {
   "cell_type": "markdown",
   "id": "e23ff635-537a-4b17-8395-03567805fe9b",
   "metadata": {},
   "source": [
    "# Fakultät für Physik\n",
    "\n",
    "## Physikalisches Praktikum P2 für Studierende der Physik\n",
    "\n",
    "Versuch P2-47, 48, 49 (Stand: April 2024)\n",
    "\n",
    "[Raum F1-08](https://labs.physik.kit.edu/img/Praktikum/Lageplan_P2.png)\n",
    "\n",
    "\n",
    "\n",
    "# Ideales und reales Gas"
   ]
  },
  {
   "cell_type": "markdown",
   "id": "9245e776-6ecd-4b3c-b7f3-33bf0428cbcf",
   "metadata": {},
   "source": [
    "Name: Vrkic Vorname: Tin E-Mail: uyvpq@student.kit.edu\n",
    "\n",
    "\\begin{equation*}\n",
    "\\begin{split}\n",
    "&\\\\\n",
    "&\\\\\n",
    "\\end{split}\n",
    "\\end{equation*}\n",
    "\n",
    "Name: Nock Vorname: Mika E-Mail: uttzi@student.kit.edu\n",
    "\n",
    "\\begin{equation*}\n",
    "\\begin{split}\n",
    "&\\\\\n",
    "&\\\\\n",
    "&\\\\\n",
    "\\end{split}\n",
    "\\end{equation*}\n",
    "\n",
    "Gruppennummer: Mo32\n",
    "\n",
    "\\begin{equation*}\n",
    "\\begin{split}\n",
    "&\\\\\n",
    "&\\\\\n",
    "&\\\\\n",
    "\\end{split}\n",
    "\\end{equation*}\n",
    "\n",
    "\n",
    "Betreuer: Joshua Turnwald\n",
    "\n",
    "\\begin{equation*}\n",
    "\\begin{split}\n",
    "&\\\\\n",
    "&\\\\\n",
    "&\\\\\n",
    "\\end{split}\n",
    "\\end{equation*}\n",
    "\n",
    "Versuch durchgeführt am: 03.06.24"
   ]
  },
  {
   "cell_type": "markdown",
   "id": "e4beb2c3-3ce3-4138-a797-86ab5b2cb72a",
   "metadata": {},
   "source": [
    "---\n",
    "\n",
    "**Beanstandungen zu Protokoll Version _____:**\n",
    "\n",
    "\\begin{equation*}\n",
    "\\begin{split}\n",
    "&\\\\\n",
    "&\\\\\n",
    "&\\\\\n",
    "&\\\\\n",
    "&\\\\\n",
    "&\\\\\n",
    "&\\\\\n",
    "&\\\\\n",
    "&\\\\\n",
    "&\\\\\n",
    "\\end{split}\n",
    "%\\text{\\vspace{10cm}}\n",
    "\\end{equation*}\n",
    "\n",
    "<br>\n",
    "Testiert am: __________________ Testat: __________________"
   ]
  },
  {
   "cell_type": "markdown",
   "id": "cdbc193f-14d1-498b-8501-d8c3b980f595",
   "metadata": {
    "tags": []
   },
   "source": [
    "# Durchführung\n",
    "\n",
    "**Die Anleitung zu diesem Versuch finden Sie [hier](https://gitlab.kit.edu/kit/etp-lehre/p2-praktikum/students/-/blob/main/Ideales_und_reales_Gas/README.md).**"
   ]
  },
  {
   "cell_type": "code",
   "execution_count": 66,
   "id": "f22f780d",
   "metadata": {},
   "outputs": [],
   "source": [
    "# importieren der nötigen Module\n",
    "import kafe2\n",
    "import numpy as np\n",
    "import matplotlib.pyplot as plt\n",
    "from uncertainties import ufloat\n",
    "\n",
    "# definition der Umrechnung von mmHg zu mbar\n",
    "lam = 1.33322"
   ]
  },
  {
   "cell_type": "markdown",
   "id": "39614214-11bf-4818-a4e9-afafa09b8859",
   "metadata": {
    "jp-MarkdownHeadingCollapsed": true,
    "tags": []
   },
   "source": [
    "## Aufgabe 1: Messung des absoluten Nullpunkts mit Hilfe eines Gasthermometers\n",
    "\n",
    "**Hinweise zu Aufgabe 1 finden in der Datei [Hinweise-Versuchsdurchfuehrung.md](https://gitlab.kit.edu/kit/etp-lehre/p2-praktikum/students/-/blob/main/Ideales_und_reales_Gas/doc/Hinweise-Versuchsdurchfuehrung.md).**\n",
    "\n",
    " * Bestimmen Sie den [Volumenausdehnungskoeffizienten](https://de.wikipedia.org/wiki/Ausdehnungskoeffizient) $\\gamma$ von Luft und berechnen Sie daraus die Temperatur des absoluten Nullpunkts $\\vartheta_{0}$ in $^{\\circ}\\mathrm{C}$.\n",
    " * Überprüfen Sie den Effekt, den die Ausdehnung des Glaskolbens K als Funktion von $\\vartheta$ hat und korrigieren Sie Ihre Messung entsprechend. \n",
    " \n",
    "---"
   ]
  },
  {
   "cell_type": "code",
   "execution_count": 60,
   "id": "ff2e26af",
   "metadata": {},
   "outputs": [],
   "source": [
    "# Müssen getauscht werden\n",
    "delta_h_kalt = np.array([18.93,18.89,18.92,18.91])\n",
    "h_0_kalt = np.array([15.06,15.03,15.06,15.09]) - h_0_kalt\n",
    "\n",
    "h_0_warm = np.array([18.91, 18.91, 18.90, 18.91])\n",
    "delta_h_warm = np.array([41.25, 41.97, 41.34, 42.0]) - h_0_warm\n",
    "\n",
    "# Bestimmung des MItelwertes und der Standartabweichung\n",
    "p_kalt = lam * np.mean(delta_h_kalt)\n",
    "p_warm = lam * np.mean(delta_h_warm)\n",
    "\n",
    "p_std_kalt = lam * np.std(delta_h_kalt)\n",
    "p_std_warm = lam * np.std(delta_h_warm)\n",
    "\n"
   ]
  },
  {
   "cell_type": "code",
   "execution_count": 67,
   "id": "cb3f3f26",
   "metadata": {},
   "outputs": [],
   "source": [
    "# definieren des Modells\n",
    "def linear_model(x,m,b):\n",
    "    return m*x + b \n",
    "\n",
    "# erstellen des Fits\n",
    "fit = kafe2.XYFit(xy_data=(),linear_model)\n",
    "xy_data = kafe2.XyContainer([0,100],[p_kalt,p_warm])\n",
    "\n"
   ]
  },
  {
   "cell_type": "markdown",
   "id": "fd8399be-1dc6-4de4-9aa1-e4e88d04cdfa",
   "metadata": {},
   "source": [
    "In diesem Versuch wird mithilfe der Ausdehnung eines Gases der absolute Nullpunkt der Temperaturskala bestimmt. Hierbei wird mithilfe eines Höhenmanometers der Druck in einem festen Volumen bei verschiedenen Temperaturen bestimmt und so der Ausdehnungskoeffizient des Gases und hierüber der Nullpunkt errechnet. \n",
    "\n",
    "Gestartet wird mit einem Wasserbad bei $0°C$, in das das Gefäß getunkt wird. Mithilfe eines Fernrohres wird die Höhendifferenz in den Schenkeln errechnet, die über einen Faktor in eine Druckdifferenz umgewandelt werden kann. \n",
    "\n",
    "---"
   ]
  },
  {
   "cell_type": "markdown",
   "id": "9fd50d32-4319-4eb0-a431-e63b40171a42",
   "metadata": {
    "jp-MarkdownHeadingCollapsed": true,
    "tags": []
   },
   "source": [
    "## Aufgabe 2: Messung des Adiabatenexponenten $\\kappa$\n",
    "\n",
    "**Hinweise zu Aufgabe 2 finden in der Datei [Hinweise-Versuchsdurchfuehrung.md](https://gitlab.kit.edu/kit/etp-lehre/p2-praktikum/students/-/blob/main/Ideales_und_reales_Gas/doc/Hinweise-Versuchsdurchfuehrung-a.md).**\n",
    "\n",
    " * Bestimmen Sie den Adiabatenkoeffizienten $\\kappa$ von Luft (und ggf. Argon) mit Hilfe von zwei verschiedenen Methoden. \n",
    " * Vergleichen Sie die Werte für $\\kappa$ von Luft, die Sie mit Hilfe beider Methoden bestimmt haben.  \n",
    " * Bearbeiten Sie hierzu die folgenden Aufgaben.\n",
    "\n",
    "---"
   ]
  },
  {
   "cell_type": "markdown",
   "id": "72e2385e-797b-4939-9b23-acd705e88913",
   "metadata": {
    "jp-MarkdownHeadingCollapsed": true,
    "tags": []
   },
   "source": [
    "### Aufgabe 2.1: Messung nach der Methode von [Clément-Desormes](https://de.wikipedia.org/wiki/Experiment_von_Cl%C3%A9ment-Desormes) \n",
    "\n",
    " * Beschreiben Sie den Prozess zur Bestimmung von $\\kappa$ in eigenen Worten. \n",
    " * Führen Sie eine hinreichend lange Messreihe durch, um ein Maß für die Streuung aufgrund statistischer Fluktuationen zu erhalten.\n",
    " * Bestimmen Sie aus Ihrer Messreihe $\\kappa$ mit entsprechender Unsicherheit $\\Delta\\kappa$.\n",
    "\n",
    "---"
   ]
  },
  {
   "cell_type": "markdown",
   "id": "be8e8251",
   "metadata": {},
   "source": [
    "Volumen: 10l\n",
    "Druck: 1000mbar +/- 1mbar\n",
    "same für richardt"
   ]
  },
  {
   "cell_type": "code",
   "execution_count": 61,
   "id": "a0e870dc-6988-4938-9a55-a0e06322a448",
   "metadata": {},
   "outputs": [],
   "source": [
    "h_01_normal = np.array([24.4, 25.2, 24.3])\n",
    "delta_h1_normal = np.array([7.9, 7.1, 8.1]) - h_01_normal\n",
    "\n",
    "h_02_normal = np.array([20.1, 20.7, 20.3])\n",
    "delta_h2_normal = np.array([12.3, 11.7, 11.6]) - h_02_normal\n",
    "\n",
    "h_01_short = np.array([25.8, 23.9, 25.5])\n",
    "delta_h1_short = np.array([6.6, 8.2, 6.7]) - h_01_short\n",
    "\n",
    "h_02_short = np.array([24.7, 23.0, 24.4])\n",
    "delta_h2_short = np.array([7.6, 9.3, 7.9]) - h_02_short\n",
    "\n",
    "h_01_long = np.array([25.9, 23.4, 24.2])\n",
    "delta_h1_long = np.array([6.3, 8.8, 8.0]) - h_01_long\n",
    "\n",
    "h_02_long = np.array([18.3, 17.9, 18.6])\n",
    "delta_h2_long = np.array([14.0, 14.4, 13.8]) - h_02_long\n",
    "\n",
    "h_21_std = .1"
   ]
  },
  {
   "cell_type": "markdown",
   "id": "51631f07-0eb9-4528-bf5e-6036e6fc15f1",
   "metadata": {
    "jp-MarkdownHeadingCollapsed": true,
    "tags": []
   },
   "source": [
    "### Aufgabe 2.2: Messung nach der Methode von [Rüchardt](https://de.wikipedia.org/wiki/R%C3%BCchardt-Experiment)\n",
    "\n",
    "**Für diese Aufgabe stehen Ihnen zwei Messaufbauten zur Verfügung. Sie können zwischen einem Aufbau nach der originalen Methode nach Rüchard und einem Aufbau mit elektronischer Datenaufzeichnung und Kolbenprober wählen. Das Messprinzip ist für beide Aufgaben gleich. Nach der originalen Methode von Rüchard bestimmen Sie $\\kappa$ nur für Luft. Mit dem Aufbau mit elektronischer Datenaufzeichnung und Kolbenprober bestimmen Sie $\\kappa$ für Luft und für das Edelgas Argon ($\\mathrm{Ar}$).**\n",
    "\n",
    " * Beschreiben Sie den Prozess zur Bestimmung von $\\kappa$ in eigenen Worten. \n",
    " * Führen Sie, mit dem gewählten Aufbau, eine geeignete Messreihe zur Bestimmung von $\\kappa$ durch.\n",
    " * Bestimmen Sie daraus $\\kappa$ mit entsprechender Unsicherheit $\\Delta\\kappa$.\n",
    "\n",
    "---"
   ]
  },
  {
   "cell_type": "code",
   "execution_count": 62,
   "id": "b33af064",
   "metadata": {},
   "outputs": [],
   "source": [
    "periodendauern = np.array([16.34, 15.36, 14.35, 14.46, 16.36, 13.22, 9.82]) # in s\n",
    "n_perioden = np.array([16, 14, 13, 13, 15, 12, 9])"
   ]
  },
  {
   "cell_type": "markdown",
   "id": "1fd055ea-4aab-4bd1-86bf-792acbce344d",
   "metadata": {},
   "source": [
    "**Lösung:**\n",
    "\n",
    "*Fügen Sie Ihre Lösung zu dieser Aufgabe hier ein. Löschen Sie hierzu diesen kursiv gestellten Text aus dem Dokument. Um Code-Fragmente und Skripte in [Python](https://www.python.org/), sowie ggf. bildliche Darstellungen direkt ins [Jupyter notebook](https://jupyter.org/) einzubinden fügen Sie dem notebook eine Code-Zelle zu.* \n",
    "\n",
    "---"
   ]
  },
  {
   "cell_type": "markdown",
   "id": "c582b649-2fdd-4766-a3ba-4ee89a9fdd29",
   "metadata": {
    "jp-MarkdownHeadingCollapsed": true,
    "tags": []
   },
   "source": [
    "## Aufgabe 3: Dampfdruckkurve von n-Hexan\n",
    "\n",
    "**Hinweise zu Aufgabe 3 finden in der Datei [Hinweise-Versuchsdurchfuehrung.md](https://gitlab.kit.edu/kit/etp-lehre/p2-praktikum/students/-/blob/main/Ideales_und_reales_Gas/doc/Hinweise-Versuchsdurchfuehrung-a.md).**\n",
    "\n",
    " * Bestimmen Sie die Dampfdruckkurve von $1\\,\\mathrm{mol}$ n-Hexan zwischen Zimmertemperatur und $0^{\\circ}\\mathrm{C}$. \n",
    " * Schätzen Sie daraus die molare Verdampfungswärme $Q_{\\mathrm{M}}$ von n-Hexan ab. \n",
    "\n",
    "---"
   ]
  },
  {
   "cell_type": "code",
   "execution_count": 79,
   "id": "469f8163",
   "metadata": {},
   "outputs": [
    {
     "data": {
      "image/png": "[encoded data removed]",
      "text/plain": [
       "<Figure size 640x480 with 1 Axes>"
      ]
     },
     "metadata": {},
     "output_type": "display_data"
    }
   ],
   "source": [
    "h_03 = (40.11 + 40.83) / 2\n",
    "delta_h_runter = -(np.array([h_0,41.35,42.02,42.89,43.26,43.42, 43.88, 44.31, 44.81, 44.85]) - h_03)\n",
    "delta_h_hoch = -(np.array([44.57,44.35,43.92,43.51,43.11,42.61,42.28,42.08,41.65,41.35]) - h_03)\n",
    "\n",
    "T_runter = np.array([21.3,19.2,16.8,13.,11.7,10.8,8.1,5.8,2.5,0])\n",
    "T_hoch = np.array([2.2,4.5,6.8,9.2,11.2,13.4,15.1,15.9,17.8,18.9])\n",
    "\n",
    "plt.plot(T_runter,delta_h_runter,'r.')\n",
    "plt.plot(T_hoch,delta_h_hoch,'g.')\n",
    "plt.show()"
   ]
  },
  {
   "cell_type": "markdown",
   "id": "79379bb3-051c-46df-80a8-1b9862bf0f52",
   "metadata": {},
   "source": [
    "**Lösung:**\n",
    "\n",
    "*Fügen Sie Ihre Lösung zu dieser Aufgabe hier ein. Löschen Sie hierzu diesen kursiv gestellten Text aus dem Dokument. Um Code-Fragmente und Skripte in [Python](https://www.python.org/), sowie ggf. bildliche Darstellungen direkt ins [Jupyter notebook](https://jupyter.org/) einzubinden fügen Sie dem notebook eine Code-Zelle zu.* \n",
    "\n",
    "---"
   ]
  }
 ],
 "metadata": {
  "kernelspec": {
   "display_name": "Python 3 (ipykernel)",
   "language": "python",
   "name": "python3"
  },
  "language_info": {
   "codemirror_mode": {
    "name": "ipython",
    "version": 3
   },
   "file_extension": ".py",
   "mimetype": "text/x-python",
   "name": "python",
   "nbconvert_exporter": "python",
   "pygments_lexer": "ipython3",
   "version": "3.11.7"
  }
 },
 "nbformat": 4,
 "nbformat_minor": 5
}
