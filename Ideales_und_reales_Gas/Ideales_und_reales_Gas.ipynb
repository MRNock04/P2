{
 "cells": [
  {
   "cell_type": "markdown",
   "id": "e23ff635-537a-4b17-8395-03567805fe9b",
   "metadata": {},
   "source": [
    "# Fakultät für Physik\n",
    "\n",
    "## Physikalisches Praktikum P2 für Studierende der Physik\n",
    "\n",
    "Versuch P2-47, 48, 49 (Stand: April 2024)\n",
    "\n",
    "[Raum F1-08](https://labs.physik.kit.edu/img/Praktikum/Lageplan_P2.png)\n",
    "\n",
    "\n",
    "\n",
    "# Ideales und reales Gas"
   ]
  },
  {
   "cell_type": "markdown",
   "id": "9245e776-6ecd-4b3c-b7f3-33bf0428cbcf",
   "metadata": {},
   "source": [
    "Name: __________________ Vorname: __________________ E-Mail: __________________\n",
    "\n",
    "\\begin{equation*}\n",
    "\\begin{split}\n",
    "&\\\\\n",
    "&\\\\\n",
    "\\end{split}\n",
    "\\end{equation*}\n",
    "\n",
    "Name: __________________ Vorname: __________________ E-Mail: __________________\n",
    "\n",
    "\\begin{equation*}\n",
    "\\begin{split}\n",
    "&\\\\\n",
    "&\\\\\n",
    "&\\\\\n",
    "\\end{split}\n",
    "\\end{equation*}\n",
    "\n",
    "Gruppennummer: _____\n",
    "\n",
    "\\begin{equation*}\n",
    "\\begin{split}\n",
    "&\\\\\n",
    "&\\\\\n",
    "&\\\\\n",
    "\\end{split}\n",
    "\\end{equation*}\n",
    "\n",
    "\n",
    "Betreuer: __________________\n",
    "\n",
    "\\begin{equation*}\n",
    "\\begin{split}\n",
    "&\\\\\n",
    "&\\\\\n",
    "&\\\\\n",
    "\\end{split}\n",
    "\\end{equation*}\n",
    "\n",
    "Versuch durchgeführt am: __________________"
   ]
  },
  {
   "cell_type": "markdown",
   "id": "e4beb2c3-3ce3-4138-a797-86ab5b2cb72a",
   "metadata": {},
   "source": [
    "---\n",
    "\n",
    "**Beanstandungen zu Protokoll Version _____:**\n",
    "\n",
    "\\begin{equation*}\n",
    "\\begin{split}\n",
    "&\\\\\n",
    "&\\\\\n",
    "&\\\\\n",
    "&\\\\\n",
    "&\\\\\n",
    "&\\\\\n",
    "&\\\\\n",
    "&\\\\\n",
    "&\\\\\n",
    "&\\\\\n",
    "\\end{split}\n",
    "%\\text{\\vspace{10cm}}\n",
    "\\end{equation*}\n",
    "\n",
    "<br>\n",
    "Testiert am: __________________ Testat: __________________"
   ]
  },
  {
   "cell_type": "markdown",
   "id": "cdbc193f-14d1-498b-8501-d8c3b980f595",
   "metadata": {
    "tags": []
   },
   "source": [
    "# Durchführung\n",
    "\n",
    "**Die Anleitung zu diesem Versuch finden Sie [hier](https://gitlab.kit.edu/kit/etp-lehre/p2-praktikum/students/-/blob/main/Ideales_und_reales_Gas/README.md).**"
   ]
  },
  {
   "cell_type": "markdown",
   "id": "39614214-11bf-4818-a4e9-afafa09b8859",
   "metadata": {
    "jp-MarkdownHeadingCollapsed": true,
    "tags": []
   },
   "source": [
    "## Aufgabe 1: Messung des absoluten Nullpunkts mit Hilfe eines Gasthermometers\n",
    "\n",
    "**Hinweise zu Aufgabe 1 finden in der Datei [Hinweise-Versuchsdurchfuehrung.md](https://gitlab.kit.edu/kit/etp-lehre/p2-praktikum/students/-/blob/main/Ideales_und_reales_Gas/doc/Hinweise-Versuchsdurchfuehrung.md).**\n",
    "\n",
    " * Bestimmen Sie den [Volumenausdehnungskoeffizienten](https://de.wikipedia.org/wiki/Ausdehnungskoeffizient) $\\gamma$ von Luft und berechnen Sie daraus die Temperatur des absoluten Nullpunkts $\\vartheta_{0}$ in $^{\\circ}\\mathrm{C}$.\n",
    " * Überprüfen Sie den Effekt, den die Ausdehnung des Glaskolbens K als Funktion von $\\vartheta$ hat und korrigieren Sie Ihre Messung entsprechend. \n",
    " \n",
    "---"
   ]
  },
  {
   "cell_type": "markdown",
   "id": "fd8399be-1dc6-4de4-9aa1-e4e88d04cdfa",
   "metadata": {},
   "source": [
    "**Lösung:**\n",
    "\n",
    "*Fügen Sie Ihre Lösung zu dieser Aufgabe hier ein. Löschen Sie hierzu diesen kursiv gestellten Text aus dem Dokument. Um Code-Fragmente und Skripte in [Python](https://www.python.org/), sowie ggf. bildliche Darstellungen direkt ins [Jupyter notebook](https://jupyter.org/) einzubinden fügen Sie dem notebook eine Code-Zelle zu.* \n",
    "\n",
    "---"
   ]
  },
  {
   "cell_type": "markdown",
   "id": "9fd50d32-4319-4eb0-a431-e63b40171a42",
   "metadata": {
    "jp-MarkdownHeadingCollapsed": true,
    "tags": []
   },
   "source": [
    "## Aufgabe 2: Messung des Adiabatenexponenten $\\kappa$\n",
    "\n",
    "**Hinweise zu Aufgabe 2 finden in der Datei [Hinweise-Versuchsdurchfuehrung.md](https://gitlab.kit.edu/kit/etp-lehre/p2-praktikum/students/-/blob/main/Ideales_und_reales_Gas/doc/Hinweise-Versuchsdurchfuehrung-a.md).**\n",
    "\n",
    " * Bestimmen Sie den Adiabatenkoeffizienten $\\kappa$ von Luft (und ggf. Argon) mit Hilfe von zwei verschiedenen Methoden. \n",
    " * Vergleichen Sie die Werte für $\\kappa$ von Luft, die Sie mit Hilfe beider Methoden bestimmt haben.  \n",
    " * Bearbeiten Sie hierzu die folgenden Aufgaben.\n",
    "\n",
    "---"
   ]
  },
  {
   "cell_type": "markdown",
   "id": "72e2385e-797b-4939-9b23-acd705e88913",
   "metadata": {
    "jp-MarkdownHeadingCollapsed": true,
    "tags": []
   },
   "source": [
    "### Aufgabe 2.1: Messung nach der Methode von [Clément-Desormes](https://de.wikipedia.org/wiki/Experiment_von_Cl%C3%A9ment-Desormes) \n",
    "\n",
    " * Beschreiben Sie den Prozess zur Bestimmung von $\\kappa$ in eigenen Worten. \n",
    " * Führen Sie eine hinreichend lange Messreihe durch, um ein Maß für die Streuung aufgrund statistischer Fluktuationen zu erhalten.\n",
    " * Bestimmen Sie aus Ihrer Messreihe $\\kappa$ mit entsprechender Unsicherheit $\\Delta\\kappa$.\n",
    "\n",
    "---"
   ]
  },
  {
   "cell_type": "markdown",
   "id": "a0e870dc-6988-4938-9a55-a0e06322a448",
   "metadata": {},
   "source": [
    "**Lösung:**\n",
    "\n",
    "*Fügen Sie Ihre Lösung zu dieser Aufgabe hier ein. Löschen Sie hierzu diesen kursiv gestellten Text aus dem Dokument. Um Code-Fragmente und Skripte in [Python](https://www.python.org/), sowie ggf. bildliche Darstellungen direkt ins [Jupyter notebook](https://jupyter.org/) einzubinden fügen Sie dem notebook eine Code-Zelle zu.* \n",
    "\n",
    "---"
   ]
  },
  {
   "cell_type": "markdown",
   "id": "51631f07-0eb9-4528-bf5e-6036e6fc15f1",
   "metadata": {
    "jp-MarkdownHeadingCollapsed": true,
    "tags": []
   },
   "source": [
    "### Aufgabe 2.2: Messung nach der Methode von [Rüchardt](https://de.wikipedia.org/wiki/R%C3%BCchardt-Experiment)\n",
    "\n",
    "**Für diese Aufgabe stehen Ihnen zwei Messaufbauten zur Verfügung. Sie können zwischen einem Aufbau nach der originalen Methode nach Rüchard und einem Aufbau mit elektronischer Datenaufzeichnung und Kolbenprober wählen. Das Messprinzip ist für beide Aufgaben gleich. Nach der originalen Methode von Rüchard bestimmen Sie $\\kappa$ nur für Luft. Mit dem Aufbau mit elektronischer Datenaufzeichnung und Kolbenprober bestimmen Sie $\\kappa$ für Luft und für das Edelgas Argon ($\\mathrm{Ar}$).**\n",
    "\n",
    " * Beschreiben Sie den Prozess zur Bestimmung von $\\kappa$ in eigenen Worten. \n",
    " * Führen Sie, mit dem gewählten Aufbau, eine geeignete Messreihe zur Bestimmung von $\\kappa$ durch.\n",
    " * Bestimmen Sie daraus $\\kappa$ mit entsprechender Unsicherheit $\\Delta\\kappa$.\n",
    "\n",
    "---"
   ]
  },
  {
   "cell_type": "markdown",
   "id": "1fd055ea-4aab-4bd1-86bf-792acbce344d",
   "metadata": {},
   "source": [
    "**Lösung:**\n",
    "\n",
    "*Fügen Sie Ihre Lösung zu dieser Aufgabe hier ein. Löschen Sie hierzu diesen kursiv gestellten Text aus dem Dokument. Um Code-Fragmente und Skripte in [Python](https://www.python.org/), sowie ggf. bildliche Darstellungen direkt ins [Jupyter notebook](https://jupyter.org/) einzubinden fügen Sie dem notebook eine Code-Zelle zu.* \n",
    "\n",
    "---"
   ]
  },
  {
   "cell_type": "markdown",
   "id": "c582b649-2fdd-4766-a3ba-4ee89a9fdd29",
   "metadata": {
    "jp-MarkdownHeadingCollapsed": true,
    "tags": []
   },
   "source": [
    "## Aufgabe 3: Dampfdruckkurve von n-Hexan\n",
    "\n",
    "**Hinweise zu Aufgabe 3 finden in der Datei [Hinweise-Versuchsdurchfuehrung.md](https://gitlab.kit.edu/kit/etp-lehre/p2-praktikum/students/-/blob/main/Ideales_und_reales_Gas/doc/Hinweise-Versuchsdurchfuehrung-a.md).**\n",
    "\n",
    " * Bestimmen Sie die Dampfdruckkurve von $1\\,\\mathrm{mol}$ n-Hexan zwischen Zimmertemperatur und $0^{\\circ}\\mathrm{C}$. \n",
    " * Schätzen Sie daraus die molare Verdampfungswärme $Q_{\\mathrm{M}}$ von n-Hexan ab. \n",
    "\n",
    "---"
   ]
  },
  {
   "cell_type": "markdown",
   "id": "79379bb3-051c-46df-80a8-1b9862bf0f52",
   "metadata": {},
   "source": [
    "**Lösung:**\n",
    "\n",
    "*Fügen Sie Ihre Lösung zu dieser Aufgabe hier ein. Löschen Sie hierzu diesen kursiv gestellten Text aus dem Dokument. Um Code-Fragmente und Skripte in [Python](https://www.python.org/), sowie ggf. bildliche Darstellungen direkt ins [Jupyter notebook](https://jupyter.org/) einzubinden fügen Sie dem notebook eine Code-Zelle zu.* \n",
    "\n",
    "---"
   ]
  }
 ],
 "metadata": {
  "kernelspec": {
   "display_name": "Python 3 (ipykernel)",
   "language": "python",
   "name": "python3"
  },
  "language_info": {
   "codemirror_mode": {
    "name": "ipython",
    "version": 3
   },
   "file_extension": ".py",
   "mimetype": "text/x-python",
   "name": "python",
   "nbconvert_exporter": "python",
   "pygments_lexer": "ipython3",
   "version": "3.10.12"
  }
 },
 "nbformat": 4,
 "nbformat_minor": 5
}
