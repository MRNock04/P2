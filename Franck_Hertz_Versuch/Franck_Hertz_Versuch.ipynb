{
 "cells": [
  {
   "cell_type": "markdown",
   "id": "a50348e5-f545-4957-bf87-22ef69001b37",
   "metadata": {},
   "source": [
    "# Fakultät für Physik\n",
    "\n",
    "## Physikalisches Praktikum P2 für Studierende der Physik\n",
    "\n",
    "Versuch P2-53, 54, 55 (Stand: März 2024)\n",
    "\n",
    "[Raum F1-13](https://labs.physik.kit.edu/img/Praktikum/Lageplan_P2.png)\n",
    "\n",
    "\n",
    "\n",
    "# Franck-Hertz-Versuch"
   ]
  },
  {
   "cell_type": "markdown",
   "id": "f603ee40-2e77-4c13-a205-5dcf9b24b2c2",
   "metadata": {},
   "source": [
    "Name: __________________ Vorname: __________________ E-Mail: __________________\n",
    "\n",
    "\\begin{equation*}\n",
    "\\begin{split}\n",
    "&\\\\\n",
    "&\\\\\n",
    "\\end{split}\n",
    "\\end{equation*}\n",
    "\n",
    "Name: __________________ Vorname: __________________ E-Mail: __________________\n",
    "\n",
    "\\begin{equation*}\n",
    "\\begin{split}\n",
    "&\\\\\n",
    "&\\\\\n",
    "&\\\\\n",
    "\\end{split}\n",
    "\\end{equation*}\n",
    "\n",
    "Gruppennummer: _____\n",
    "\n",
    "\\begin{equation*}\n",
    "\\begin{split}\n",
    "&\\\\\n",
    "&\\\\\n",
    "&\\\\\n",
    "\\end{split}\n",
    "\\end{equation*}\n",
    "\n",
    "\n",
    "Betreuer: __________________\n",
    "\n",
    "\\begin{equation*}\n",
    "\\begin{split}\n",
    "&\\\\\n",
    "&\\\\\n",
    "&\\\\\n",
    "\\end{split}\n",
    "\\end{equation*}\n",
    "\n",
    "Versuch durchgeführt am: __________________"
   ]
  },
  {
   "cell_type": "markdown",
   "id": "d01a3705-3cb7-4d5b-a448-faeee8feeb0b",
   "metadata": {},
   "source": [
    "---\n",
    "\n",
    "**Beanstandungen:**\n",
    "\n",
    "\\begin{equation*}\n",
    "\\begin{split}\n",
    "&\\\\\n",
    "&\\\\\n",
    "&\\\\\n",
    "&\\\\\n",
    "&\\\\\n",
    "&\\\\\n",
    "&\\\\\n",
    "&\\\\\n",
    "&\\\\\n",
    "&\\\\\n",
    "\\end{split}\n",
    "%\\text{\\vspace{10cm}}\n",
    "\\end{equation*}\n",
    "\n",
    "<br>\n",
    "Testiert am: __________________ Testat: __________________"
   ]
  },
  {
   "cell_type": "markdown",
   "id": "f0726035-9c5e-452e-99c4-9e9c0a336e23",
   "metadata": {},
   "source": [
    "# Durchführung\n",
    "\n",
    "**Die Anleitung zu diesem Versuch finden Sie [hier](https://gitlab.kit.edu/kit/etp-lehre/p2-praktikum/students/-/blob/main/Franck_Hertz_Versuch/README.md).**"
   ]
  },
  {
   "cell_type": "markdown",
   "id": "92f01435-81d7-4ffb-aed7-b78a2bcfee39",
   "metadata": {
    "jp-MarkdownHeadingCollapsed": true,
    "tags": []
   },
   "source": [
    "## Aufgabe 1: Messanordnung\n",
    "\n",
    "**Hinweise zu Aufgabe 1 finden in der Datei [Hinweise-Versuchsdurchfuehrung.md](https://gitlab.kit.edu/kit/etp-lehre/p2-praktikum/students/-/blob/main/Franck_Hertz_Versuch/doc/Hinweise-Versuchsdurchfuehrung.md).**\n",
    "\n",
    " - Bauen Sie die Schaltung der Franck-Hertz-$\\mathrm{Hg}$-Röhre mit dem zugehörigen Betriebsgerät auf. \n",
    " - Machen Sie sich mit dem Versuchsaufbau vertraut, indem Sie die folgenden Aufgaben bearbieten.\n",
    "\n",
    "---"
   ]
  },
  {
   "cell_type": "markdown",
   "id": "b148feb4-86f0-457e-993e-f0e533993550",
   "metadata": {
    "jp-MarkdownHeadingCollapsed": true,
    "tags": []
   },
   "source": [
    "### Aufgabe 1.1: Beschreibung der Messanordnung\n",
    "\n",
    " * Beschreiben Sie die Messanordnung, die Sie für diesen Versuch vorfinden in eigenen Worten.\n",
    "\n",
    "---"
   ]
  },
  {
   "cell_type": "markdown",
   "id": "b0ddcc65-60ac-47fa-8902-2482ef185d48",
   "metadata": {},
   "source": [
    "**Lösung:**\n",
    "\n",
    "*Fügen Sie Ihre Lösung zu dieser Aufgabe hier ein. Löschen Sie hierzu diesen kursiv gestellten Text aus dem Dokument. Um Code-Fragmente und Skripte in [Python](https://www.python.org/), sowie ggf. bildliche Darstellungen direkt ins [Jupyter notebook](https://jupyter.org/) einzubinden fügen Sie dem notebook eine Code-Zelle zu.* \n",
    "\n",
    "---"
   ]
  },
  {
   "cell_type": "markdown",
   "id": "6044619d-d749-40b3-b4cc-4a107737704d",
   "metadata": {
    "jp-MarkdownHeadingCollapsed": true,
    "tags": []
   },
   "source": [
    "### Aufgabe 1.2: Effekt der Steuerparameter an der Röhre\n",
    "\n",
    " * Beschreiben Sie in eigenen Worten die Effekte, die einzelne Variationen der Parameter $\\vartheta$, $U_{1}$, $U_{2}$ und $U_{3}$ auf $I_{A}$ haben. \n",
    " * Nehmen Sie für $\\theta=180,\\,160,\\,140,\\,120^{\\circ}\\,\\mathrm{C}$ jeweils einen Verlauf von $I_{A}$ als Funktion von $U_{2}$, für entsprechend optimierte Werte von $U_{1}$ und $U_{3}$, auf und fügen Sie Ihrem Protokoll eine entsprechende Darstellungen bei. Notieren Sie zu jeder Darstellug die verwendeten Werte von $U_{1}$ und $U_{3}$. \n",
    " * Beschrieben Sie den Kurvenverlauf und die entsprechenden Änderungen qualitativ.\n",
    "\n",
    "---"
   ]
  },
  {
   "cell_type": "markdown",
   "id": "480ac77e-93af-4e12-a912-1c77b3be9b41",
   "metadata": {},
   "source": [
    "**Lösung:**\n",
    "\n",
    "*Fügen Sie Ihre Lösung zu dieser Aufgabe hier ein. Löschen Sie hierzu diesen kursiv gestellten Text aus dem Dokument. Um Code-Fragmente und Skripte in [Python](https://www.python.org/), sowie ggf. bildliche Darstellungen direkt ins [Jupyter notebook](https://jupyter.org/) einzubinden fügen Sie dem notebook eine Code-Zelle zu.* \n",
    "\n",
    "---"
   ]
  },
  {
   "cell_type": "markdown",
   "id": "7553a19b-9625-42f7-ad91-1dea7f45c777",
   "metadata": {
    "jp-MarkdownHeadingCollapsed": true,
    "tags": []
   },
   "source": [
    "## Aufgabe 2: Charakterisierung der $\\mathrm{Hg}$-Röhre\n",
    "\n",
    "**Hinweise zu Aufgabe 2 finden in der Datei [Hinweise-Versuchsdurchfuehrung.md](https://gitlab.kit.edu/kit/etp-lehre/p2-praktikum/students/-/blob/main/Franck_Hertz_Versuch/doc/Hinweise-Versuchsdurchfuehrung.md).**\n",
    "\n",
    "Charakterisieren Sie die Röhre, für die Einstellungen von $\\vartheta$, $U_{1}$ und $U_{3}$ aus **Aufgabe 1.2**, die Ihnen dafür am besten geeignet erscheinen. Bearbeiten Sie hierzu die folgenden Aufgaben.\n",
    "\n",
    "---"
   ]
  },
  {
   "cell_type": "markdown",
   "id": "d3f00615-d56e-4034-a878-e91aae42e7dc",
   "metadata": {
    "jp-MarkdownHeadingCollapsed": true,
    "tags": []
   },
   "source": [
    "### Aufgabe 2.1: Bestimmung der Spannungsdifferenz $\\Delta U_{B}$ und der effektiven Kontaktspannung $U_{\\mathrm{th.}}$\n",
    "\n",
    " * Bestimmen Sie die Spannungsdifferenz $\\Delta U_{B}$ mit Hilfe der beobachteten Maxima und/oder Minima des Verlaufs von $I_{A}$.\n",
    " * Bestimmen Sie die effektive Kontaktspannung $U_{\\mathrm{th.}}$.\n",
    " * Kalibrieren Sie für Ihre spätere Auswertung die $x$-Achse **aller aufgezeichneten Diagramme** entsprechend, so dass dort $U_{B}$ angezeigt wird.\n",
    "\n",
    "---"
   ]
  },
  {
   "cell_type": "markdown",
   "id": "84f7d54e-c365-4319-a4f8-8ca877dab1c7",
   "metadata": {},
   "source": [
    "**Lösung:**\n",
    "\n",
    "*Fügen Sie Ihre Lösung zu dieser Aufgabe hier ein. Löschen Sie hierzu diesen kursiv gestellten Text aus dem Dokument. Um Code-Fragmente und Skripte in [Python](https://www.python.org/), sowie ggf. bildliche Darstellungen direkt ins [Jupyter notebook](https://jupyter.org/) einzubinden fügen Sie dem notebook eine Code-Zelle zu.* \n",
    "\n",
    "---"
   ]
  },
  {
   "cell_type": "markdown",
   "id": "51314eff-f682-46e3-8fa1-e02b83738373",
   "metadata": {
    "jp-MarkdownHeadingCollapsed": true,
    "tags": []
   },
   "source": [
    "### Aufgabe 2.2: Verlauf des Anodenstroms $I_{\\mathrm{G2}}$\n",
    "\n",
    " * Bestimmen Sie den Anodenstrom $I_{G2}$ als Funktion von $U_{2}$. \n",
    " * Überprüfen Sie durch geeignete Auftragung die aus dem [Raumladungsgesetz](https://de.wikipedia.org/wiki/Raumladungsgesetz) erwartete Abhängigkeit von $U_{2}$.\n",
    "\n",
    "---"
   ]
  },
  {
   "cell_type": "markdown",
   "id": "3fe7852d-e4e0-4ed6-b873-8792940efc73",
   "metadata": {},
   "source": [
    "**Lösung:**\n",
    "\n",
    "*Fügen Sie Ihre Lösung zu dieser Aufgabe hier ein. Löschen Sie hierzu diesen kursiv gestellten Text aus dem Dokument. Um Code-Fragmente und Skripte in [Python](https://www.python.org/), sowie ggf. bildliche Darstellungen direkt ins [Jupyter notebook](https://jupyter.org/) einzubinden fügen Sie dem notebook eine Code-Zelle zu.* \n",
    "\n",
    "---"
   ]
  },
  {
   "cell_type": "markdown",
   "id": "cb8d84e8-0055-4be8-91bf-093663321029",
   "metadata": {
    "jp-MarkdownHeadingCollapsed": true,
    "tags": []
   },
   "source": [
    "## Aufgabe 3: Höhere Anregungen von $\\mathrm{Hg}$\n",
    "\n",
    "**Hinweise zu Aufgabe 3 finden in der Datei [Hinweise-Versuchsdurchfuehrung.md](https://gitlab.kit.edu/kit/etp-lehre/p2-praktikum/students/-/blob/main/Franck_Hertz_Versuch/doc/Hinweise-Versuchsdurchfuehrung.md).**\n",
    "\n",
    "Untersuchen Sie höhere Anregungen von $\\mathrm{Hg}$ und schätzen Sie seine Ionisierungsenergie ab. Bearbeiten Sie hierzu die folgenden Aufgaben.\n",
    "\n",
    "---"
   ]
  },
  {
   "cell_type": "markdown",
   "id": "31613d4d-a3bf-4248-a7e7-fe17d547d75d",
   "metadata": {
    "jp-MarkdownHeadingCollapsed": true,
    "tags": []
   },
   "source": [
    "### Aufgabe 3.1: Beobachtung höherer Anregungen von $\\mathrm{Hg}$\n",
    "\n",
    " * Bestimmen Sie den Verlauf von $I_{A}$ als Funktion von $U_{B}$ unter Betriebsbedingungen, die für die Erzeugung höherer Anregungszustände in $\\mathrm{Hg}$ geeignet sind. \n",
    " * Versuchen Sie im Rahmen Ihrer Auswertung soviele Strukturen im Verlauf von $I_{A}$ wie möglich zu identifizieren. Dieser wird im Wesentlichen durch Linearkombinationen der beiden niedrigsten Anregungsenergien bestimmt.\n",
    "\n",
    "---"
   ]
  },
  {
   "cell_type": "markdown",
   "id": "418b36e3-e9ab-4bc2-bb85-5451ebe17f7f",
   "metadata": {},
   "source": [
    "**Lösung:**\n",
    "\n",
    "*Fügen Sie Ihre Lösung zu dieser Aufgabe hier ein. Löschen Sie hierzu diesen kursiv gestellten Text aus dem Dokument. Um Code-Fragmente und Skripte in [Python](https://www.python.org/), sowie ggf. bildliche Darstellungen direkt ins [Jupyter notebook](https://jupyter.org/) einzubinden fügen Sie dem notebook eine Code-Zelle zu.* \n",
    "\n",
    "---"
   ]
  },
  {
   "cell_type": "markdown",
   "id": "4fab0d01-6d10-421e-91b8-bc7c9b0c61e4",
   "metadata": {
    "jp-MarkdownHeadingCollapsed": true,
    "tags": []
   },
   "source": [
    "### Aufgabe 3.2: Ionisierungsenergie von $\\mathrm{Hg}$\n",
    "\n",
    " * Bestimmen Sie aus dem Verlauf von $I_{G_{2}}$ als Funktion von $U_{B}$ die Ionisierungsenergie von $\\mathrm{Hg}$.\n",
    " * Beobachten Sie mit dem Taschenspektroskop die im Bereich des sichtbaren Lichts liegenden Emissionslinien bei brennender Gasentladung. Lassen Sie hierzu eine ständige Gasentladung zünden. Fügen Sie Ihrem Protokoll ein entsprechendes Bild zu.\n",
    " \n",
    "---"
   ]
  },
  {
   "cell_type": "markdown",
   "id": "b2dfa32a-473c-4181-b87d-3767124fbaa3",
   "metadata": {},
   "source": [
    "**Lösung:**\n",
    "\n",
    "*Fügen Sie Ihre Lösung zu dieser Aufgabe hier ein. Löschen Sie hierzu diesen kursiv gestellten Text aus dem Dokument. Um Code-Fragmente und Skripte in [Python](https://www.python.org/), sowie ggf. bildliche Darstellungen direkt ins [Jupyter notebook](https://jupyter.org/) einzubinden fügen Sie dem notebook eine Code-Zelle zu.* \n",
    "\n",
    "---"
   ]
  },
  {
   "cell_type": "markdown",
   "id": "c34dfb2c-33f8-4df6-b30a-fde515f4606f",
   "metadata": {
    "jp-MarkdownHeadingCollapsed": true,
    "tags": []
   },
   "source": [
    "## Aufgabe 4: Bestimmung der mittleren Energie für die Anregung von $\\mathrm{Ne}$ durch Elektronenstoß\n",
    "\n",
    "**Hinweise zu Aufgabe 4 finden in der Datei [Hinweise-Versuchsdurchfuehrung.md](https://gitlab.kit.edu/kit/etp-lehre/p2-praktikum/students/-/blob/main/Franck_Hertz_Versuch/doc/Hinweise-Versuchsdurchfuehrung.md).**\n",
    "\n",
    "Bestimmen Sie die mittlere Energie für die vorherrschenden Anregungen von $\\mathrm{Ne}$ durch Elektronenstoß. Gehen Sie dabei analog zu **Aufgabe 2.1** vor. \n",
    "\n",
    "---"
   ]
  },
  {
   "cell_type": "markdown",
   "id": "6fe38d0a-6246-40bf-b496-016b8473f9cc",
   "metadata": {},
   "source": [
    "**Lösung:**\n",
    "\n",
    "*Fügen Sie Ihre Lösung zu dieser Aufgabe hier ein. Löschen Sie hierzu diesen kursiv gestellten Text aus dem Dokument. Um Code-Fragmente und Skripte in [Python](https://www.python.org/), sowie ggf. bildliche Darstellungen direkt ins [Jupyter notebook](https://jupyter.org/) einzubinden fügen Sie dem notebook eine Code-Zelle zu.* \n",
    "\n",
    "---"
   ]
  }
 ],
 "metadata": {
  "kernelspec": {
   "display_name": "Python 3 (ipykernel)",
   "language": "python",
   "name": "python3"
  },
  "language_info": {
   "codemirror_mode": {
    "name": "ipython",
    "version": 3
   },
   "file_extension": ".py",
   "mimetype": "text/x-python",
   "name": "python",
   "nbconvert_exporter": "python",
   "pygments_lexer": "ipython3",
   "version": "3.10.12"
  }
 },
 "nbformat": 4,
 "nbformat_minor": 5
}
