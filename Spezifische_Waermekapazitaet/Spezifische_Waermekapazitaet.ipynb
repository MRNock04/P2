{
 "cells": [
  {
   "cell_type": "markdown",
   "id": "2383f609-cfe2-4bfd-9b16-e572fc77f735",
   "metadata": {},
   "source": [
    "# Fakultät für Physik\n",
    "\n",
    "## Physikalisches Praktikum P2 für Studierende der Physik\n",
    "\n",
    "Versuch P2-33, 34, 35 (Stand: April 2024)\n",
    "\n",
    "[Raum F1-08](https://labs.physik.kit.edu/img/Praktikum/Lageplan_P2.png)\n",
    "\n",
    "\n",
    "\n",
    "# Spezifische Wärmekapazität"
   ]
  },
  {
   "cell_type": "markdown",
   "id": "afb74c0d-c0f0-4d17-b4d7-2425144a910a",
   "metadata": {},
   "source": [
    "Tin Vrkic E-Mail: uyvpq@student.kit.edu\n",
    "\n",
    "\\begin{equation*}\n",
    "\\begin{split}\n",
    "&\\\\\n",
    "&\\\\\n",
    "\\end{split}\n",
    "\\end{equation*}\n",
    "\n",
    "Mika Nock E-Mail: uttzi@student.kit.edu\n",
    "\n",
    "\\begin{equation*}\n",
    "\\begin{split}\n",
    "&\\\\\n",
    "&\\\\\n",
    "&\\\\\n",
    "\\end{split}\n",
    "\\end{equation*}\n",
    "\n",
    "Gruppennummer: Mo32\n",
    "\n",
    "\\begin{equation*}\n",
    "\\begin{split}\n",
    "&\\\\\n",
    "&\\\\\n",
    "&\\\\\n",
    "\\end{split}\n",
    "\\end{equation*}\n",
    "\n",
    "\n",
    "Betreuer: Asya Can\n",
    "\n",
    "\\begin{equation*}\n",
    "\\begin{split}\n",
    "&\\\\\n",
    "&\\\\\n",
    "&\\\\\n",
    "\\end{split}\n",
    "\\end{equation*}\n",
    "\n",
    "Versuch durchgeführt am: 17.06.24"
   ]
  },
  {
   "cell_type": "markdown",
   "id": "0d446c2e-9dac-4aea-86ec-2d7bf5c50396",
   "metadata": {},
   "source": [
    "---\n",
    "\n",
    "**Beanstandungen zu Protokoll Version _____:**\n",
    "\n",
    "\\begin{equation*}\n",
    "\\begin{split}\n",
    "&\\\\\n",
    "&\\\\\n",
    "&\\\\\n",
    "&\\\\\n",
    "&\\\\\n",
    "&\\\\\n",
    "&\\\\\n",
    "&\\\\\n",
    "&\\\\\n",
    "&\\\\\n",
    "\\end{split}\n",
    "%\\text{\\vspace{10cm}}\n",
    "\\end{equation*}\n",
    "\n",
    "<br>\n",
    "Testiert am: __________________ Testat: __________________"
   ]
  },
  {
   "cell_type": "markdown",
   "id": "e8a9d3a1-8f61-401d-8568-55e8943e68bc",
   "metadata": {},
   "source": [
    "# Durchführung\n",
    "\n",
    "**Die Anleitung zu diesem Versuch finden Sie [hier](https://gitlab.kit.edu/kit/etp-lehre/p2-praktikum/students/-/blob/main/Spezifische_Waermekapazitaet/README.md).**"
   ]
  },
  {
   "cell_type": "code",
   "execution_count": 2,
   "id": "d2a43424",
   "metadata": {},
   "outputs": [],
   "source": [
    "import numpy as np\n",
    "import matplotlib.pyplot as plt\n",
    "import pandas as pd\n",
    "import kafe2\n",
    "from uncertainties import ufloat, unumpy as unp\n",
    "import pathlib"
   ]
  },
  {
   "cell_type": "code",
   "execution_count": 40,
   "id": "777dc2d4",
   "metadata": {},
   "outputs": [],
   "source": [
    "# erstellen einer Funktion für kafe2 Fits\n",
    "def fit_funktion(xy_data, model_function, xy_error, xy_label, title, constraint=[], add_error=True):\n",
    "    xy_data = kafe2.XYContainer(xy_data[0], xy_data[1])\n",
    "    xy_data.label = title\n",
    "    fit = kafe2.XYFit(xy_data = xy_data, model_function = model_function)\n",
    "    if add_error:\n",
    "        fit.add_error(axis = 'x', err_val = xy_error[0])\n",
    "        fit.add_error(axis = 'y', err_val = xy_error[1])\n",
    "    for i in range(len(constraint)):\n",
    "        fit.add_parameter_constraint(name = constraint[i][0], value = constraint[i][1], uncertainty = constraint[i][2])\n",
    "    fit.do_fit()\n",
    "    plot = kafe2.Plot(fit)\n",
    "    plot.x_label, plot.y_label = xy_label[0], xy_label[1]\n",
    "    \n",
    "    return fit.parameter_values, fit.parameter_errors, plot\n",
    "\n",
    "def weighted_mean_gauss(arr):\n",
    "    res = np.sum( unp.nominal_values(arr) / unp.std_devs(arr) ) / np.sum( 1 / unp.std_devs(arr) )\n",
    "    return res\n",
    "\n",
    "def std_weighted_mean_gauss(arr):\n",
    "    N = unp.nominal_values(arr).size\n",
    "    arr_bar = weighted_mean_gauss(arr)\n",
    "    return np.sqrt( (N/(N-1)) * np.sum( (unp.nominal_values(arr)-arr_bar)**2 / unp.std_devs(arr) ) / np.sum( 1/unp.std_devs(arr) ) )\n",
    "\n",
    "# specific heat capacity of water at room temperature\n",
    "c_H2O = 4184 # J/kg K"
   ]
  },
  {
   "cell_type": "markdown",
   "id": "edc37ea0-7799-4c02-8532-9e58abea5ae0",
   "metadata": {
    "jp-MarkdownHeadingCollapsed": true,
    "tags": []
   },
   "source": [
    "## Aufgabe 1: Spezifische Wärmekapazität aus Mischtemperatur\n",
    "\n",
    "**Hinweise zu Aufgabe 1 finden in der Datei [Hinweise-Versuchsdurchfuehrung.md](https://gitlab.kit.edu/kit/etp-lehre/p2-praktikum/students/-/blob/main/Spezifische_Waermekapazitaet/doc/Hinweise-Versuchsdurchfuehrung.md).**\n",
    "\n",
    " * Bestimmen Sie so genau wie mit den verfügbaren Mitteln möglich, die spezifische Wärmekapazität $c_{X}$ von Aluminium und noch eines weiteren Metalls, durch das Herstellen von Mischtemperaturen in einem Glas-Kalorimeter. \n",
    " * Bearbeiten Sie hierzu die folgenden Aufgaben."
   ]
  },
  {
   "cell_type": "markdown",
   "id": "8a376574-f992-4189-a3b8-d71dd1fb537a",
   "metadata": {
    "jp-MarkdownHeadingCollapsed": true,
    "tags": []
   },
   "source": [
    "### Aufgabe 1.1: Planung des Messvorhabens\n",
    "\n",
    " * Beschreiben Sie das von Ihnen geplante Messvorhaben und den dazu verwendeten Aufgbau in eigenen Worten.\n",
    " * Führen Sie ggf. geeignete Vergleichs- und Kalibrationsmessreihen durch, um sich von der Eignung der Methode zu überzeugen oder Korrekturen oder Unsicherheiten abzuschätzen. \n",
    "\n",
    "---"
   ]
  },
  {
   "cell_type": "markdown",
   "id": "7bc754a2",
   "metadata": {},
   "source": [
    "In this experiment we want to measure the specific heat capacity (SHC) of aluminium and another metal of our choice by \"mixing\" the metal with water inside a calorimeter. For this, we measure the masses of both the water and the metal, their starting temperatures and finally their equilibrium temperatures. There are ceratin starting paramters that are to be fixed prior to the experiment, which will be discussed in the following.  \n",
    "\n",
    "- We used a granulate of the metal instead of a solid body so that the heat exchange can happen more efficently due to higher surface area  \n",
    "- For the starting temperatures we chose hot metal and water at room temperature for a few reasons: first, we need to minimize the error of heat exchange of the water with the environment, so if both have around the same temperature, heat exchange will barely happen and we keep that error low. Second, the SHC of water at room temperature is well known and stays very constant around room temperature (which is also one reason to use water and not another liquid). Due to its much higher SHC than metal, the equilibrium temperature is not much higher than its starting temperature and we can use the known, constant value. Also water is the most abundant resource on our planet and thus readily available, though we needed pure, distilled water, which is not as abundant as, say, sea water, but it's still water (that's the second reason to use water over another liquid).  \n",
    "- The water to metal weight ratio should definitely be in favor of the water so that, again, its temperature doesn't change too much and we can use the known, constant value for its SHC  \n",
    "- Since the calorimeter also has its own SHC, we will first mix room temperature water with warm water to estimate its effect on the subsequent measurements  \n",
    "-   \n",
    "\n",
    "The formula to calculate a material M's SHC is given in the preparation as the following:\n",
    "$$c_{M}=c_{H_2O}\\frac{m_{H_2O}(T_{Mix}-T_{H_2O})}{m_M(T_M-T_{Mix})}$$\n",
    "\n",
    "\n",
    "\n",
    "\n",
    "In dieser Aufgabe soll ein Aufbau bestimmt werden, mit dem die spezifische Wärmekapazität $c_M$ von verschiedenen Metallen gemessen werden kann. Hierbei sollen verschiedene Messfehler verringert werden. \n",
    "\n",
    "Beim vermessenen Stoff sollte es sich um eine Form handeln, die möglichst gut Wärme mit ihrer Umgebung, also dem Wasser im Kalorimeter, austauschen kann. Das führt dazu, das sich möglichst schnell ein Gleichgewicht einstellt und wenig Wärme an die Umgebung verloren geht. Es wird also ein Granulat einem festen Körper vorgezogen, obwohl sich hier mögliche Probleme beim Erhitzen und bei der genauen Bestimmung der Masse ergeben. \n",
    "\n",
    "Die Flüssigkeit im Kalorimeter hätte an der Öffnung einer Vergleichsweise große, unisolierte Kontaktoberfläche. Um die Verluste der Wärme möglichst gering zu halten sollte sich die Flüssigkeit bei Raumtemperatur und das Metall bei höheren Temperaturen befinden. \n",
    "\n",
    "Bei der Flüssigkeit sollte es sich um Wasser handeln, da es aufgrund seiner hohen Wärmekapazität temperaturstabilder gegenüber der Umgebung ist als andere Stoffe. \n",
    "\n",
    "### hier fehlen noch Ausarbeitungen"
   ]
  },
  {
   "cell_type": "markdown",
   "id": "5beab6a9-2c5e-4576-b16f-18b41cab0db5",
   "metadata": {},
   "source": [
    "---"
   ]
  },
  {
   "cell_type": "markdown",
   "id": "0c7f5da6-6a64-4d21-a22a-d71478e3c7c4",
   "metadata": {
    "jp-MarkdownHeadingCollapsed": true,
    "tags": []
   },
   "source": [
    "### Aufgabe 1.2: Durchführung des Messprogramms und Auswertung\n",
    "\n",
    " * Führen Sie eine Messreihe geeigneter Länge für Aluminium und ein weiteres Metall Ihrer Wahl durch.  \n",
    "\n",
    " * Bestimmen Sie für Ihre Auswertung Unsicherheiten auf alle Parameter, die die Messung Ihrer Meinung nach beeinflussen können, pflanzen Sie diese auf das Ergebnis fort und vergleichen Sie mit der Erwartung.\n",
    "\n",
    "---"
   ]
  },
  {
   "cell_type": "markdown",
   "id": "9759c149",
   "metadata": {},
   "source": [
    "First, we measured the equilibrium temperature of a mix of cold and warm water, while measuring the weight and temperature of both at appropriate times to get an estimate of how the SHC of the calorimeter affects all our measurements. For that we compare the equilibrium temperatures we measured with what we would theoretically expect given the masses and starting temperatures we used. The formula can be derived from the one above for water and another, unspecified material:\n",
    "$$T_{Mix}=\\frac{m_{warm}T_{warm}+m_{cold}T_{cold}}{m_{warm}+m_{cold}}$$ "
   ]
  },
  {
   "cell_type": "code",
   "execution_count": 39,
   "id": "bdb21326",
   "metadata": {},
   "outputs": [
    {
     "name": "stdout",
     "output_type": "stream",
     "text": [
      "Measured equilibrium temperatures: [306.35 310.25 310.05 322.45 317.15]\n",
      "Expected equilibrium temperatuers: [306.55698093 310.50952191 310.55313134 324.29610063 317.33231383]\n",
      "Weighted average of the ratios of measured to expected equilibrium temperatures: 0.0019159309428620388 = 0.2%\n"
     ]
    }
   ],
   "source": [
    "# Measurement with only water\n",
    "# masses of the cold and warm water in kg\n",
    "m_water_cold = unp.uarray([142.93, 130.22, 126.89, 114.38, 110.01],[.01]) * 10**(-3)\n",
    "m_water_warm = unp.uarray([56.90, 83.13, 85.16, 76.42, 115.59],[.01]) * 10**(-3)\n",
    "# temperatures of the cold and warm water and equilibrium temperatures in K\n",
    "T_water_cold = unp.uarray([22.9, 23.8, 26.6, 31.2, 24.2],[.1]) + 273.15\n",
    "T_water_warm = unp.uarray([59.8, 58.6, 53.5, 81.0, 63.2],[.1]) + 273.15\n",
    "T_water_mix = unp.uarray([33.2, 37.1, 36.9, 49.3, 44],[.1]) + 273.15\n",
    "\n",
    "# Expected equilibrium temperatures\n",
    "def equil_temp_water(m_w, m_c, T_w, T_c):\n",
    "    return ( m_w * T_w + m_c * T_c ) / ( m_w + m_c )\n",
    "\n",
    "T_water_mix_exp = equil_temp_water(m_water_warm, m_water_cold, T_water_warm, T_water_cold)\n",
    "print(f\"Measured equilibrium temperatures: {unp.nominal_values(T_water_mix)}\")\n",
    "print(f\"Expected equilibrium temperatuers: {unp.nominal_values(T_water_mix_exp)}\")\n",
    "\n",
    "# Calculate by how much every measurement deviates from the expectation\n",
    "ratio_exp_to_measure = np.absolute( T_water_mix / T_water_mix_exp - 1 ) \n",
    "mean_ratio = weighted_mean_gauss(ratio_exp_to_measure)\n",
    "print(f\"Weighted average of the ratios of measured to expected equilibrium temperatures: {mean_ratio} = {mean_ratio*100:.1f}%\")"
   ]
  },
  {
   "cell_type": "markdown",
   "id": "7068e84a",
   "metadata": {},
   "source": [
    "By taking the ratio of the measured and the expected equilibrium temperatures and subtracting one, because we only want to know by how much it deviates, and taking the weighted average, we get a value of $\\approx 0.002=0.2\\%$. The measured temperature is lower than what it should be by $0.2\\%$ due to the SHC of the calorimeter and maybe other factors as well, such as minimal heat exchange with the environment."
   ]
  },
  {
   "cell_type": "markdown",
   "id": "1789db92",
   "metadata": {},
   "source": [
    "Now, we first measured the SHC of aluminium. Unfortunately, since we didn't know we had to heat the aluminium (and later the tin) up to about $100^\\circ C$, we only heated it to about $60^\\circ C-90^\\circ C$ (the tin to about $70^\\circ C-90^\\circ C$). Because of that, we did one additional measurement with $100^\\circ C$ hot aluminium and tin respectively to check if our results are acceptable despite that error or by how much they might be off. "
   ]
  },
  {
   "cell_type": "code",
   "execution_count": 42,
   "id": "f884039a",
   "metadata": {},
   "outputs": [],
   "source": [
    "# values need to be in K (Temp), kg (mass) and J/kg*K (spec. heat cap.)\n",
    "def get_cM(m_H2O, mM, T_H2O, TM, T_mix):\n",
    "    return c_H2O * ( m_H2O / mM ) * ( T_mix - T_H2O ) / ( TM - T_mix )"
   ]
  },
  {
   "cell_type": "code",
   "execution_count": null,
   "id": "d7b81875",
   "metadata": {},
   "outputs": [],
   "source": []
  },
  {
   "cell_type": "code",
   "execution_count": 64,
   "id": "1de70c18",
   "metadata": {},
   "outputs": [
    {
     "name": "stdout",
     "output_type": "stream",
     "text": [
      "Literature value of SHC of aluminium: 896 J/kg*K\n",
      "SHC of aluminium (60-90°C): c_Al = (1.29+/-0.13)e+03 J/kg*K\n",
      "SHC of aluminium (100°C): c_Al = (1.63+/-0.06)e+03 J/kg*K\n",
      "Ratio of aluminium (cold) to literature: 1.443+/-0.143\n",
      "Ratio of aluminium (hot) to literature: 1.815+/-0.068\n"
     ]
    }
   ],
   "source": [
    "# Measurements with aluminium (too cold)\n",
    "# masses of the water and aluminium in kg\n",
    "m_water_al = unp.uarray([182.53, 182.45, 201.10, 203.22, 204.62],[.01]) * 10**(-3)\n",
    "m_al = ufloat(22.62,.01) * 10**(-3)\n",
    "# Temperatures of the water, aluminium and equilibrium in K\n",
    "T_water_al = unp.uarray([23.3, 24.1, 25.2, 25.6, 26.1],[.1]) + 273.15\n",
    "T_al = unp.uarray([94.9, 86.5, 71.7, 69.2, 66.7],[.1]) + 273.15\n",
    "T_mix_al = unp.uarray([25.9, 26.3, 26.6, 27.3, 27.5],[.1]) + 273.15\n",
    "\n",
    "c_al_cold = ufloat( weighted_mean_gauss( get_cM( m_water_al , m_al , T_water_al , T_al , T_mix_al ) ) , std_weighted_mean_gauss( get_cM( m_water_al , m_al , T_water_al , T_al , T_mix_al ) ) )\n",
    "\n",
    "\n",
    "# Measurement with aluminium (100°C)\n",
    "m_water_al_hot = ufloat(147.56, .01) * 10**(-3)\n",
    "m_al_hot = ufloat(18.93, .01) * 10**(-3)\n",
    "T_water_al_hot = ufloat(23.8, .1) + 273.15\n",
    "T_al_hot = ufloat(105.9, .1) + 273.15\n",
    "T_mix_al_hot = ufloat(27.7, .1) + 273.15\n",
    "\n",
    "c_al_hot = get_cM( m_water_al_hot , m_al_hot , T_water_al_hot , T_al_hot , T_mix_al_hot )\n",
    "\n",
    "print(f\"Literature value of SHC of aluminium: 896 J/kg*K\")\n",
    "print(f\"SHC of aluminium (60-90°C): c_Al = {c_al_cold} J/kg*K\")\n",
    "print(f\"SHC of aluminium (100°C): c_Al = {c_al_hot} J/kg*K\")\n",
    "print(f\"Ratio of aluminium (cold) to literature: {c_al_cold/896:.3f}\")\n",
    "print(f\"Ratio of aluminium (hot) to literature: {c_al_hot/896:.3f}\")"
   ]
  },
  {
   "cell_type": "markdown",
   "id": "7af3560a",
   "metadata": {},
   "source": [
    "The values we get are:  \n",
    "- SHC of aluminium (aluminium only heated to about $60^\\circ C-90^\\circ C$): $c_{Al}=(1.29\\pm0.13)\\,\\frac{J}{kgK}$  \n",
    "- SHC of aluminium (aluminium heated to about $100^\\circ$): $c_{Al}=(1.63\\pm0.06)\\,\\frac{J}{kgK}$  \n",
    "\n",
    "Somehow, the measurement at $100^\\circ C$, that should have corrected our previous measurements a little, turns out worse than the latter. "
   ]
  },
  {
   "cell_type": "code",
   "execution_count": 65,
   "id": "a57f3ee0",
   "metadata": {},
   "outputs": [
    {
     "name": "stdout",
     "output_type": "stream",
     "text": [
      "Literature value of SHC of tin: 221 J/kg*K\n",
      "SHC of tin (70-90°C): c_Tin = (5.3+/-0.7)e+02 J/kg*K\n",
      "SHC of tin (100°C): c_Tin = (5.7+/-0.4)e+02 J/kg*K\n",
      "Ratio of tin (cold) to literature: 2.408+/-0.335\n",
      "Ratio of tin (hot) to literature: 2.601+/-0.201\n"
     ]
    }
   ],
   "source": [
    "# Measurements with tin\n",
    "# masses of the water and tin in kg\n",
    "m_water_tin = unp.uarray([186.53, 206.76, 202.88, 215.14, 173.75],[.01]) * 10**(-3)\n",
    "m_tin = ufloat(24.86,.01) * 10**(-3)\n",
    "# Temperatures of the water, tin and equilibrium in K\n",
    "T_water_tin = unp.uarray([23.7, 24.2, 24.5, 24.9, 25.2],[.1]) + 273.15\n",
    "T_tin = unp.uarray([87.7, 83.6, 79.4, 77.6, 71.8],[.1]) + 273.15\n",
    "T_mix_tin = unp.uarray([24.9, 24.9, 25.4, 25.7, 26.0],[.1]) + 273.15\n",
    "\n",
    "c_tin_cold = ufloat( weighted_mean_gauss( get_cM( m_water_tin , m_tin , T_water_tin , T_tin , T_mix_tin ) ) , std_weighted_mean_gauss( get_cM ( m_water_tin , m_tin , T_water_tin , T_tin , T_mix_tin ) ) )\n",
    "\n",
    "# Measurement with aluminium (100°C)\n",
    "m_water_tin_hot = ufloat(194.12, .01) * 10**(-3)\n",
    "m_tin_hot = m_tin\n",
    "T_water_tin_hot = ufloat(24.2, .1) + 273.15\n",
    "T_tin_hot = ufloat(99.4, .1) + 273.15\n",
    "T_mix_tin_hot = ufloat(25.5, .01) + 273.15\n",
    "\n",
    "c_tin_hot = get_cM( m_water_tin_hot , m_tin_hot , T_water_tin_hot , T_tin_hot , T_mix_tin_hot )\n",
    "\n",
    "print(f\"Literature value of SHC of tin: 221 J/kg*K\")\n",
    "print(f\"SHC of tin (70-90°C): c_Tin = {c_tin_cold} J/kg*K\")\n",
    "print(f\"SHC of tin (100°C): c_Tin = {c_tin_hot} J/kg*K\")\n",
    "print(f\"Ratio of tin (cold) to literature: {c_tin_cold/221:.3f}\")\n",
    "print(f\"Ratio of tin (hot) to literature: {c_tin_hot/221:.3f}\")"
   ]
  },
  {
   "cell_type": "code",
   "execution_count": null,
   "id": "fd40c8ad",
   "metadata": {},
   "outputs": [],
   "source": []
  },
  {
   "cell_type": "markdown",
   "id": "105e26b3",
   "metadata": {},
   "source": []
  },
  {
   "cell_type": "markdown",
   "id": "4b7bc4c2",
   "metadata": {},
   "source": [
    "In diesem Versuch wird die Messung nach den Methoden, die in 1.1 erläutert wurden, durchgeführt. \n",
    "\n",
    "Die aufgenommen Daten werden mithilfe der Formel $c_M = c_{H_2O} \\frac{m_{H_2O} (T_{H_2O}-T_{mix})}{m_M(T_{H_2O}-T_{mix})}$ dann zur spezifischen Wärmekapazität umgerechnet und der gewichtete Mittelwert aus den Einzelmessungen gebildet. Hierbei werden die Fehler, die auf jedem einzelnen Wert liegen mit Hilfe des uncertainties-Paketes verarbeitet und in die Berechnung mit eingebracht. \n",
    "\n",
    "Es ergeben sich somit Werte von:\n",
    "$$c_M(Aluminium) = \\pm  \\frac{kJ}{kgK}, c_M() = \\pm  \\frac{kJ}{kgK}$$\n",
    "\n",
    "im Vergleich mit den Literaturwerten:\n",
    "$$c_M(Aluminium) = \\pm  \\frac{kJ}{kgK}, c_M() = \\pm  \\frac{kJ}{kgK}$$"
   ]
  },
  {
   "cell_type": "markdown",
   "id": "387c1dfa-14fd-453c-89b3-962ee2c800cb",
   "metadata": {},
   "source": [
    "\n",
    "---"
   ]
  },
  {
   "cell_type": "markdown",
   "id": "1eff9c2d-0fd4-45a9-a9fb-612b61fcfe2b",
   "metadata": {
    "jp-MarkdownHeadingCollapsed": true,
    "tags": []
   },
   "source": [
    "## Aufgabe 2: Spezifische Wärmekapazität von Aluminium als Funktion der Temperatur\n",
    "\n",
    "**Hinweise zu Aufgabe 1 finden in der Datei [Hinweise-Versuchsdurchfuehrung.md](https://gitlab.kit.edu/kit/etp-lehre/p2-praktikum/students/-/blob/main/Spezifische_Waermekapazitaet/doc/Hinweise-Versuchsdurchfuehrung.md).**\n",
    "\n",
    " * Messen Sie $c_{\\mathrm{Al}}(T)$ in Abhängigkeit von der Temperatur in einem Bereich zwischen $T=100-300\\,\\mathrm{K}$. \n",
    " * Bearbeiten Sie hierzu die folgenden Aufgaben."
   ]
  },
  {
   "cell_type": "markdown",
   "id": "74561746-76a9-4d8b-9828-2addbb6bfe40",
   "metadata": {
    "jp-MarkdownHeadingCollapsed": true,
    "tags": []
   },
   "source": [
    "### Aufgabe 2.1: Datennahme\n",
    "\n",
    " * Beschreiben Sie das VOrgehen in eigenen Worten. \n",
    " * Bereiten Sie die Datennahme vor, nehmen Sie die Messpunkte auf.\n",
    "\n",
    "---"
   ]
  },
  {
   "cell_type": "markdown",
   "id": "f291868a-0888-4588-b792-171bdffe5bf0",
   "metadata": {},
   "source": [
    "Kanal 5: Referenztemperatur\n",
    "Kanal 1: Spannung in mV"
   ]
  },
  {
   "cell_type": "markdown",
   "id": "2b33067c-65c9-41af-a706-99660650fe1a",
   "metadata": {
    "jp-MarkdownHeadingCollapsed": true,
    "tags": []
   },
   "source": [
    "### Aufgabe 2.2: Kalibration des Thermoelements\n",
    "\n",
    " * Kalibrieren Sie das $\\mathrm{NiCr}$-$\\mathrm{Ni}$-Thermoelement von ursprünglichen Angabe von Volt auf eine Temperaturmessung in Kelvin. \n",
    " * Sie können diese Kalibration mit Hilfe der Datei [calibration.csv](https://gitlab.kit.edu/kit/etp-lehre/p2-praktikum/students/-/blob/main/Spezifische_Waermekapazitaet/params/calibration.csv) vornehmen. \n",
    "\n",
    "---"
   ]
  },
  {
   "cell_type": "code",
   "execution_count": 6,
   "id": "7756445a-94b1-41d7-b665-1e63c9fd1b40",
   "metadata": {},
   "outputs": [
    {
     "data": {
      "text/plain": [
       "[{'main': {'plots': [{'type': 'data',\n",
       "     'fit_index': 0,\n",
       "     'adapter': <kafe2.fit.xy.plot.XYPlotAdapter at 0x218f19013a0>,\n",
       "     'artist': <ErrorbarContainer object of 3 artists>},\n",
       "    {'type': 'model',\n",
       "     'fit_index': 0,\n",
       "     'adapter': <kafe2.fit.xy.plot.XYPlotAdapter at 0x218f19013a0>,\n",
       "     'artist': None},\n",
       "    {'type': 'model_line',\n",
       "     'fit_index': 0,\n",
       "     'adapter': <kafe2.fit.xy.plot.XYPlotAdapter at 0x218f19013a0>,\n",
       "     'artist': [<matplotlib.lines.Line2D at 0x218f210d4f0>]},\n",
       "    {'type': 'model_error_band',\n",
       "     'fit_index': 0,\n",
       "     'adapter': <kafe2.fit.xy.plot.XYPlotAdapter at 0x218f19013a0>,\n",
       "     'artist': <matplotlib.collections.PolyCollection at 0x218f210d700>}],\n",
       "   'x_range': (-0.0063052999204956, 0.0028093000757507987)}}]"
      ]
     },
     "execution_count": 6,
     "metadata": {},
     "output_type": "execute_result"
    },
    {
     "data": {
      "image/png": "[encoded data removed]",
      "text/plain": [
       "<Figure size 640x480 with 1 Axes>"
      ]
     },
     "metadata": {},
     "output_type": "display_data"
    },
    {
     "data": {
      "image/png": "[encoded data removed]",
      "text/plain": [
       "<Figure size 1200x500 with 2 Axes>"
      ]
     },
     "metadata": {},
     "output_type": "display_data"
    }
   ],
   "source": [
    "calibration = pd.read_csv(f\"{str(pathlib.Path().resolve())}/params/calibration.csv\", delimiter=\",\", decimal=\".\")\n",
    "calib_T, calib_U = np.array(calibration[\"T\"], dtype=np.float32), np.array(calibration[\"U\"], dtype=np.float32) * 10**(-3)\n",
    "plt.plot(calib_T, calib_U, \"rx\")\n",
    "def calibration_function(U, a=-1, b=1, c=1, d=1):\n",
    "    return a * np.exp(b*U) + c * U + d\n",
    "calib_data = np.array([calib_U, calib_T])\n",
    "calib_error = np.array([.016*10**(-3), .05])\n",
    "calib_label = [\"U\" , \"T\"]\n",
    "calib_title = \"Calibration Fit\"\n",
    "calib_fit = fit_funktion(calib_data, calibration_function, calib_error, calib_label, calib_title)\n",
    "calib_fit[2].plot()"
   ]
  },
  {
   "cell_type": "markdown",
   "id": "78df9cd4-67ab-4c6e-ae47-1ef77ad1043e",
   "metadata": {
    "jp-MarkdownHeadingCollapsed": true,
    "tags": []
   },
   "source": [
    "### Aufgabe 2.3: Korrektur des Wärmegangs\n",
    "\n",
    "Trotz Wärmeisolation nimmt der für die Messung verwendete Aluminium-Hohlzylinder im Verlauf der Messung zusätzlich zur elektrischen Heizleistung Wärme aus der Umgebung auf (**Wärmegang**). \n",
    "\n",
    " * Sie könnten den Wärmegang durch eine zweite, gleichartige Messung, ohne elektrische Heizung abschätzen (**Nullmessung**) und korrigieren. Eine solche Messung dauert allerdings $24$ Stunden, sie lässt sich also nicht an einem Versuchstag durchführen. \n",
    " * Sie können stattdessen die Daten aus der Datei [waermegang.csv](https://gitlab.kit.edu/kit/etp-lehre/p2-praktikum/students/-/blob/main/Spezifische_Waermekapazitaet/params/waermegang.csv) für diese Korrektur verwenden. \n",
    "\n",
    "---"
   ]
  },
  {
   "cell_type": "markdown",
   "id": "120eeac3-24a3-4450-bacc-3bc28648b0ee",
   "metadata": {},
   "source": [
    "**Lösung:**\n",
    "\n",
    "*Fügen Sie Ihre Lösung zu dieser Aufgabe hier ein. Löschen Sie hierzu diesen kursiv gestellten Text aus dem Dokument. Um Code-Fragmente und Skripte in [Python](https://www.python.org/), sowie ggf. bildliche Darstellungen direkt ins [Jupyter notebook](https://jupyter.org/) einzubinden fügen Sie dem notebook eine Code-Zelle zu.* \n",
    "\n",
    "---"
   ]
  },
  {
   "cell_type": "markdown",
   "id": "f02992be-47d4-4753-a297-b3ac349f7303",
   "metadata": {
    "jp-MarkdownHeadingCollapsed": true,
    "tags": []
   },
   "source": [
    "### Aufgabe 2.4: Bestimmung von $c_{\\mathrm{Al}}(T)$\n",
    "\n",
    " * Bestimmen Sie den Verlauf der spezifischen Wärmekapazität von Aluminium als Funktion von $T$. \n",
    " * Bestimmen Sie aus diesem Verlauf den Wert für $T=20^{\\circ}\\mathrm{C}$ und vergleichen Sie mit Ihrer Erwartung.\n",
    " * Bestimmen Sie aus diesem Verlauf den Wert für $T_{\\mathrm{Mix}}$ und vergleichen Sie mit dem Ergebnis aus **Aufgabe 1.2**.\n",
    " \n",
    "---"
   ]
  },
  {
   "cell_type": "markdown",
   "id": "2c34c948-28bd-4655-8281-06df219eee22",
   "metadata": {},
   "source": [
    "**Lösung:**\n",
    "\n",
    "*Fügen Sie Ihre Lösung zu dieser Aufgabe hier ein. Löschen Sie hierzu diesen kursiv gestellten Text aus dem Dokument. Um Code-Fragmente und Skripte in [Python](https://www.python.org/), sowie ggf. bildliche Darstellungen direkt ins [Jupyter notebook](https://jupyter.org/) einzubinden fügen Sie dem notebook eine Code-Zelle zu.* \n",
    "\n",
    "---"
   ]
  }
 ],
 "metadata": {
  "kernelspec": {
   "display_name": "Python 3 (ipykernel)",
   "language": "python",
   "name": "python3"
  },
  "language_info": {
   "codemirror_mode": {
    "name": "ipython",
    "version": 3
   },
   "file_extension": ".py",
   "mimetype": "text/x-python",
   "name": "python",
   "nbconvert_exporter": "python",
   "pygments_lexer": "ipython3",
   "version": "3.9.18"
  }
 },
 "nbformat": 4,
 "nbformat_minor": 5
}
