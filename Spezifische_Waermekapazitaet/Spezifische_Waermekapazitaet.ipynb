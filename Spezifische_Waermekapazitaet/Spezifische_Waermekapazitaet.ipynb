{
 "cells": [
  {
   "cell_type": "markdown",
   "id": "2383f609-cfe2-4bfd-9b16-e572fc77f735",
   "metadata": {},
   "source": [
    "# Fakultät für Physik\n",
    "\n",
    "## Physikalisches Praktikum P2 für Studierende der Physik\n",
    "\n",
    "Versuch P2-33, 34, 35 (Stand: April 2024)\n",
    "\n",
    "[Raum F1-08](https://labs.physik.kit.edu/img/Praktikum/Lageplan_P2.png)\n",
    "\n",
    "\n",
    "\n",
    "# Spezifische Wärmekapazität"
   ]
  },
  {
   "cell_type": "markdown",
   "id": "afb74c0d-c0f0-4d17-b4d7-2425144a910a",
   "metadata": {},
   "source": [
    "Name: Vrkic Vorname: Tin E-Mail: uyvpq@student.kit.edu\n",
    "\n",
    "\\begin{equation*}\n",
    "\\begin{split}\n",
    "&\\\\\n",
    "&\\\\\n",
    "\\end{split}\n",
    "\\end{equation*}\n",
    "\n",
    "Name: Nock Vorname: Mika E-Mail: uttzi@student.kit.edu\n",
    "\n",
    "\\begin{equation*}\n",
    "\\begin{split}\n",
    "&\\\\\n",
    "&\\\\\n",
    "&\\\\\n",
    "\\end{split}\n",
    "\\end{equation*}\n",
    "\n",
    "Gruppennummer: Mo-32\n",
    "\n",
    "\\begin{equation*}\n",
    "\\begin{split}\n",
    "&\\\\\n",
    "&\\\\\n",
    "&\\\\\n",
    "\\end{split}\n",
    "\\end{equation*}\n",
    "\n",
    "\n",
    "Betreuer: Asya Can\n",
    "\n",
    "\\begin{equation*}\n",
    "\\begin{split}\n",
    "&\\\\\n",
    "&\\\\\n",
    "&\\\\\n",
    "\\end{split}\n",
    "\\end{equation*}\n",
    "\n",
    "Versuch durchgeführt am: 17.06.24"
   ]
  },
  {
   "cell_type": "markdown",
   "id": "0d446c2e-9dac-4aea-86ec-2d7bf5c50396",
   "metadata": {},
   "source": [
    "---\n",
    "\n",
    "**Beanstandungen zu Protokoll Version _____:**\n",
    "\n",
    "\\begin{equation*}\n",
    "\\begin{split}\n",
    "&\\\\\n",
    "&\\\\\n",
    "&\\\\\n",
    "&\\\\\n",
    "&\\\\\n",
    "&\\\\\n",
    "&\\\\\n",
    "&\\\\\n",
    "&\\\\\n",
    "&\\\\\n",
    "\\end{split}\n",
    "%\\text{\\vspace{10cm}}\n",
    "\\end{equation*}\n",
    "\n",
    "<br>\n",
    "Testiert am: __________________ Testat: __________________"
   ]
  },
  {
   "cell_type": "markdown",
   "id": "e8a9d3a1-8f61-401d-8568-55e8943e68bc",
   "metadata": {},
   "source": [
    "# Durchführung\n",
    "\n",
    "**Die Anleitung zu diesem Versuch finden Sie [hier](https://gitlab.kit.edu/kit/etp-lehre/p2-praktikum/students/-/blob/main/Spezifische_Waermekapazitaet/README.md).**"
   ]
  },
  {
   "cell_type": "code",
   "execution_count": 7,
   "id": "d2a43424",
   "metadata": {},
   "outputs": [],
   "source": [
    "import numpy as np\n",
    "import matplotlib.pyplot as plt \n",
    "from uncertainties import ufloat, unumpy as unp\n",
    "\n",
    "def weighted_mean(array):\n",
    "    return "
   ]
  },
  {
   "cell_type": "markdown",
   "id": "edc37ea0-7799-4c02-8532-9e58abea5ae0",
   "metadata": {
    "jp-MarkdownHeadingCollapsed": true,
    "tags": []
   },
   "source": [
    "## Aufgabe 1: Spezifische Wärmekapazität aus Mischtemperatur\n",
    "\n",
    "**Hinweise zu Aufgabe 1 finden in der Datei [Hinweise-Versuchsdurchfuehrung.md](https://gitlab.kit.edu/kit/etp-lehre/p2-praktikum/students/-/blob/main/Spezifische_Waermekapazitaet/doc/Hinweise-Versuchsdurchfuehrung.md).**\n",
    "\n",
    " * Bestimmen Sie so genau wie mit den verfügbaren Mitteln möglich, die spezifische Wärmekapazität $c_{X}$ von Aluminium und noch eines weiteren Metalls, durch das Herstellen von Mischtemperaturen in einem Glas-Kalorimeter. \n",
    " * Bearbeiten Sie hierzu die folgenden Aufgaben."
   ]
  },
  {
   "cell_type": "markdown",
   "id": "8a376574-f992-4189-a3b8-d71dd1fb537a",
   "metadata": {
    "jp-MarkdownHeadingCollapsed": true,
    "tags": []
   },
   "source": [
    "### Aufgabe 1.1: Planung des Messvorhabens\n",
    "\n",
    " * Beschreiben Sie das von Ihnen geplante Messvorhaben und den dazu verwendeten Aufgbau in eigenen Worten.\n",
    " * Führen Sie ggf. geeignete Vergleichs- und Kalibrationsmessreihen durch, um sich von der Eignung der Methode zu überzeugen oder Korrekturen oder Unsicherheiten abzuschätzen. \n",
    "\n",
    "---"
   ]
  },
  {
   "cell_type": "markdown",
   "id": "7bc754a2",
   "metadata": {},
   "source": [
    "In dieser Aufgabe soll ein Aufbau bestimmt werden, mit dem die spezifische Wärmekapazität $c_M$ von verschiedenen Metallen gemessen werden kann. Hierbei sollen verschiedene Messfehler verringert werden. \n",
    "\n",
    "Beim vermessenen Stoff sollte es sich um eine Form handeln, die möglichst gut Wärme mit ihrer Umgebung, also dem Wasser im Kalorimeter, austauschen kann. Das führt dazu, das sich möglichst schnell ein Gleichgewicht einstellt und wenig Wärme an die Umgebung verloren geht. Es wird also ein Granulat einem festen Körper vorgezogen, obwohl sich hier mögliche Probleme beim Erhitzen und bei der genauen Bestimmung der Masse ergeben. \n",
    "\n",
    "Die Flüssigkeit im Kalorimeter hätte an der Öffnung einer Vergleichsweise große, unisolierte Kontaktoberfläche. Um die Verluste der Wärme möglichst gering zu halten sollte sich die Flüssigkeit bei Raumtemperatur und das Metall bei höheren Temperaturen befinden. \n",
    "\n",
    "Bei der Flüssigkeit sollte es sich um Wasser handeln, da es aufgrund seiner hohen Wärmekapazität temperaturstabilder gegenüber der Umgebung ist als andere Stoffe. \n",
    "\n",
    "### hier fehlen noch Ausarbeitungen"
   ]
  },
  {
   "cell_type": "markdown",
   "id": "5beab6a9-2c5e-4576-b16f-18b41cab0db5",
   "metadata": {},
   "source": [
    "---"
   ]
  },
  {
   "cell_type": "markdown",
   "id": "0c7f5da6-6a64-4d21-a22a-d71478e3c7c4",
   "metadata": {
    "jp-MarkdownHeadingCollapsed": true,
    "tags": []
   },
   "source": [
    "### Aufgabe 1.2: Durchführung des Messprogramms und Auswertung\n",
    "\n",
    " * Führen Sie eine Messreihe geeigneter Länge für Aluminium und ein weiteres Metall Ihrer Wahl durch.  \n",
    "\n",
    " * Bestimmen Sie für Ihre Auswertung Unsicherheiten auf alle Parameter, die die Messung Ihrer Meinung nach beeinflussen können, pflanzen Sie diese auf das Ergebnis fort und vergleichen Sie mit der Erwartung.\n",
    "\n",
    "---"
   ]
  },
  {
   "cell_type": "code",
   "execution_count": 10,
   "id": "f62f92d3",
   "metadata": {},
   "outputs": [
    {
     "name": "stdout",
     "output_type": "stream",
     "text": [
      "Die spezifische Wärmekapazität von Aluminium beträgt []\n"
     ]
    },
    {
     "ename": "TypeError",
     "evalue": "'numpy.ndarray' object is not callable",
     "output_type": "error",
     "traceback": [
      "\u001b[0;31m---------------------------------------------------------------------------\u001b[0m",
      "\u001b[0;31mTypeError\u001b[0m                                 Traceback (most recent call last)",
      "\u001b[1;32m/home/mika/Dokumente/P2/Spezifische_Waermekapazitaet/Spezifische_Waermekapazitaet.ipynb Cell 11\u001b[0m line \u001b[0;36m2\n\u001b[1;32m     <a href='vscode-notebook-cell:/home/mika/Dokumente/P2/Spezifische_Waermekapazitaet/Spezifische_Waermekapazitaet.ipynb#X26sZmlsZQ%3D%3D?line=19'>20</a>\u001b[0m \u001b[39m# printing the results\u001b[39;00m\n\u001b[1;32m     <a href='vscode-notebook-cell:/home/mika/Dokumente/P2/Spezifische_Waermekapazitaet/Spezifische_Waermekapazitaet.ipynb#X26sZmlsZQ%3D%3D?line=20'>21</a>\u001b[0m \u001b[39mprint\u001b[39m(\u001b[39mf\u001b[39m\u001b[39m'\u001b[39m\u001b[39mDie spezifische Wärmekapazität von Aluminium beträgt \u001b[39m\u001b[39m{\u001b[39;00m\u001b[39m4.1815\u001b[39m\u001b[39m \u001b[39m\u001b[39m*\u001b[39m\u001b[39m \u001b[39m(m_h20_1\u001b[39m*\u001b[39m(T_h20_1\u001b[39m-\u001b[39mT_mix_1))\u001b[39m \u001b[39m\u001b[39m*\u001b[39m\u001b[39m \u001b[39m(m_al\u001b[39m*\u001b[39m(T_al\u001b[39m-\u001b[39mT_mix))\u001b[39m}\u001b[39;00m\u001b[39m'\u001b[39m)\n\u001b[0;32m---> <a href='vscode-notebook-cell:/home/mika/Dokumente/P2/Spezifische_Waermekapazitaet/Spezifische_Waermekapazitaet.ipynb#X26sZmlsZQ%3D%3D?line=21'>22</a>\u001b[0m \u001b[39mprint\u001b[39m(\u001b[39mf\u001b[39m\u001b[39m'\u001b[39m\u001b[39mDie spezifische Wärmekapazität von ... beträgt \u001b[39m\u001b[39m{\u001b[39;00mget_cm(T_h20_2,T_mix_2,T_,m_h20_2,m_)\u001b[39m}\u001b[39;00m\u001b[39m'\u001b[39m)\n",
      "\u001b[1;32m/home/mika/Dokumente/P2/Spezifische_Waermekapazitaet/Spezifische_Waermekapazitaet.ipynb Cell 11\u001b[0m line \u001b[0;36m1\n\u001b[1;32m     <a href='vscode-notebook-cell:/home/mika/Dokumente/P2/Spezifische_Waermekapazitaet/Spezifische_Waermekapazitaet.ipynb#X26sZmlsZQ%3D%3D?line=15'>16</a>\u001b[0m \u001b[39mdef\u001b[39;00m \u001b[39mget_cm\u001b[39m(T_h20,T_mix,T_m,m_h20,m_m):\n\u001b[0;32m---> <a href='vscode-notebook-cell:/home/mika/Dokumente/P2/Spezifische_Waermekapazitaet/Spezifische_Waermekapazitaet.ipynb#X26sZmlsZQ%3D%3D?line=16'>17</a>\u001b[0m     cm \u001b[39m=\u001b[39m  \u001b[39m4.1815\u001b[39m \u001b[39m*\u001b[39m (m_h20(T_h20\u001b[39m-\u001b[39mT_mix)) \u001b[39m*\u001b[39m (m_m(T_m\u001b[39m-\u001b[39mT_mix))\n\u001b[1;32m     <a href='vscode-notebook-cell:/home/mika/Dokumente/P2/Spezifische_Waermekapazitaet/Spezifische_Waermekapazitaet.ipynb#X26sZmlsZQ%3D%3D?line=17'>18</a>\u001b[0m     \u001b[39mreturn\u001b[39;00m weighted_mean()\n",
      "\u001b[0;31mTypeError\u001b[0m: 'numpy.ndarray' object is not callable"
     ]
    }
   ],
   "source": [
    "# Messungen Aluminium \n",
    "T_h20_1 = unp.uarray([],[])\n",
    "T_al = unp.uarray([],[])\n",
    "T_mix_1 = ([],[])\n",
    "m_h20_1 = unp.uarray([],[])\n",
    "m_al = unp.uarray([],[])\n",
    "\n",
    "# Messungen \n",
    "T_h20_2 = unp.uarray([],[])\n",
    "T_ = unp.uarray([],[])\n",
    "T_mix_2 = unp.uarray([],[])\n",
    "m_h20_2 = unp.uarray([],[])\n",
    "m_ = unp.uarray([],[])\n",
    "\n",
    "# calculating cm \n",
    "def get_cm(T_h20,T_mix,T_m,m_h20,m_m):\n",
    "    cm =  4.1815 * (m_h20(T_h20-T_mix)) * (m_m(T_m-T_mix))\n",
    "    return weighted_mean()\n",
    "\n",
    "# printing the results\n",
    "print(f'Die spezifische Wärmekapazität von Aluminium beträgt {4.1815 * (m_h20_1*(T_h20_1-T_mix_1)) * (m_al*(T_al-T_mix))}')\n",
    "print(f'Die spezifische Wärmekapazität von ... beträgt {get_cm(T_h20_2,T_mix_2,T_,m_h20_2,m_)}')"
   ]
  },
  {
   "cell_type": "markdown",
   "id": "4b7bc4c2",
   "metadata": {},
   "source": [
    "In diesem Versuch wird die Messung nach den Methoden, die in 1.1 erläutert wurden, durchgeführt. \n",
    "\n",
    "Die aufgenommen Daten werden mithilfe der Formel $c_M = c_{H_2O} \\frac{m_{H_2O} (T_{H_2O}-T_{mix})}{m_M(T_{H_2O}-T_{mix})}$ dann zur spezifischen Wärmekapazität umgerechnet und der gewichtete Mittelwert aus den Einzelmessungen gebildet. Hierbei werden die Fehler, die auf jedem einzelnen Wert liegen mit Hilfe des uncertainties-Paketes verarbeitet und in die Berechnung mit eingebracht. \n",
    "\n",
    "Es ergeben sich somit Werte von:\n",
    "$$c_M(Aluminium) = \\pm  \\frac{kJ}{kgK}, c_M() = \\pm  \\frac{kJ}{kgK}$$\n",
    "\n",
    "im Vergleich mit den Literaturwerten:\n",
    "$$c_M(Aluminium) = \\pm  \\frac{kJ}{kgK}, c_M() = \\pm  \\frac{kJ}{kgK}$$"
   ]
  },
  {
   "cell_type": "markdown",
   "id": "387c1dfa-14fd-453c-89b3-962ee2c800cb",
   "metadata": {},
   "source": [
    "\n",
    "---"
   ]
  },
  {
   "cell_type": "markdown",
   "id": "1eff9c2d-0fd4-45a9-a9fb-612b61fcfe2b",
   "metadata": {
    "jp-MarkdownHeadingCollapsed": true,
    "tags": []
   },
   "source": [
    "## Aufgabe 2: Spezifische Wärmekapazität von Aluminium als Funktion der Temperatur\n",
    "\n",
    "**Hinweise zu Aufgabe 1 finden in der Datei [Hinweise-Versuchsdurchfuehrung.md](https://gitlab.kit.edu/kit/etp-lehre/p2-praktikum/students/-/blob/main/Spezifische_Waermekapazitaet/doc/Hinweise-Versuchsdurchfuehrung.md).**\n",
    "\n",
    " * Messen Sie $c_{\\mathrm{Al}}(T)$ in Abhängigkeit von der Temperatur in einem Bereich zwischen $T=100-300\\,\\mathrm{K}$. \n",
    " * Bearbeiten Sie hierzu die folgenden Aufgaben."
   ]
  },
  {
   "cell_type": "markdown",
   "id": "74561746-76a9-4d8b-9828-2addbb6bfe40",
   "metadata": {
    "jp-MarkdownHeadingCollapsed": true,
    "tags": []
   },
   "source": [
    "### Aufgabe 2.1: Datennahme\n",
    "\n",
    " * Beschreiben Sie das VOrgehen in eigenen Worten. \n",
    " * Bereiten Sie die Datennahme vor, nehmen Sie die Messpunkte auf.\n",
    "\n",
    "---"
   ]
  },
  {
   "cell_type": "markdown",
   "id": "f291868a-0888-4588-b792-171bdffe5bf0",
   "metadata": {},
   "source": [
    "**Lösung:**\n",
    "\n",
    "*Fügen Sie Ihre Lösung zu dieser Aufgabe hier ein. Löschen Sie hierzu diesen kursiv gestellten Text aus dem Dokument. Um Code-Fragmente und Skripte in [Python](https://www.python.org/), sowie ggf. bildliche Darstellungen direkt ins [Jupyter notebook](https://jupyter.org/) einzubinden fügen Sie dem notebook eine Code-Zelle zu.* \n",
    "\n",
    "---"
   ]
  },
  {
   "cell_type": "markdown",
   "id": "2b33067c-65c9-41af-a706-99660650fe1a",
   "metadata": {
    "jp-MarkdownHeadingCollapsed": true,
    "tags": []
   },
   "source": [
    "### Aufgabe 2.2: Kalibration des Thermoelements\n",
    "\n",
    " * Kalibrieren Sie das $\\mathrm{NiCr}$-$\\mathrm{Ni}$-Thermoelement von ursprünglichen Angabe von Volt auf eine Temperaturmessung in Kelvin. \n",
    " * Sie können diese Kalibration mit Hilfe der Datei [calibration.csv](https://gitlab.kit.edu/kit/etp-lehre/p2-praktikum/students/-/blob/main/Spezifische_Waermekapazitaet/params/calibration.csv) vornehmen. \n",
    "\n",
    "---"
   ]
  },
  {
   "cell_type": "markdown",
   "id": "7756445a-94b1-41d7-b665-1e63c9fd1b40",
   "metadata": {},
   "source": [
    "**Lösung:**\n",
    "\n",
    "*Fügen Sie Ihre Lösung zu dieser Aufgabe hier ein. Löschen Sie hierzu diesen kursiv gestellten Text aus dem Dokument. Um Code-Fragmente und Skripte in [Python](https://www.python.org/), sowie ggf. bildliche Darstellungen direkt ins [Jupyter notebook](https://jupyter.org/) einzubinden fügen Sie dem notebook eine Code-Zelle zu.* \n",
    "\n",
    "---"
   ]
  },
  {
   "cell_type": "markdown",
   "id": "78df9cd4-67ab-4c6e-ae47-1ef77ad1043e",
   "metadata": {
    "jp-MarkdownHeadingCollapsed": true,
    "tags": []
   },
   "source": [
    "### Aufgabe 2.3: Korrektur des Wärmegangs\n",
    "\n",
    "Trotz Wärmeisolation nimmt der für die Messung verwendete Aluminium-Hohlzylinder im Verlauf der Messung zusätzlich zur elektrischen Heizleistung Wärme aus der Umgebung auf (**Wärmegang**). \n",
    "\n",
    " * Sie könnten den Wärmegang durch eine zweite, gleichartige Messung, ohne elektrische Heizung abschätzen (**Nullmessung**) und korrigieren. Eine solche Messung dauert allerdings $24$ Stunden, sie lässt sich also nicht an einem Versuchstag durchführen. \n",
    " * Sie können stattdessen die Daten aus der Datei [waermegang.csv](https://gitlab.kit.edu/kit/etp-lehre/p2-praktikum/students/-/blob/main/Spezifische_Waermekapazitaet/params/waermegang.csv) für diese Korrektur verwenden. \n",
    "\n",
    "---"
   ]
  },
  {
   "cell_type": "markdown",
   "id": "120eeac3-24a3-4450-bacc-3bc28648b0ee",
   "metadata": {},
   "source": [
    "**Lösung:**\n",
    "\n",
    "*Fügen Sie Ihre Lösung zu dieser Aufgabe hier ein. Löschen Sie hierzu diesen kursiv gestellten Text aus dem Dokument. Um Code-Fragmente und Skripte in [Python](https://www.python.org/), sowie ggf. bildliche Darstellungen direkt ins [Jupyter notebook](https://jupyter.org/) einzubinden fügen Sie dem notebook eine Code-Zelle zu.* \n",
    "\n",
    "---"
   ]
  },
  {
   "cell_type": "markdown",
   "id": "f02992be-47d4-4753-a297-b3ac349f7303",
   "metadata": {
    "jp-MarkdownHeadingCollapsed": true,
    "tags": []
   },
   "source": [
    "### Aufgabe 2.4: Bestimmung von $c_{\\mathrm{Al}}(T)$\n",
    "\n",
    " * Bestimmen Sie den Verlauf der spezifischen Wärmekapazität von Aluminium als Funktion von $T$. \n",
    " * Bestimmen Sie aus diesem Verlauf den Wert für $T=20^{\\circ}\\mathrm{C}$ und vergleichen Sie mit Ihrer Erwartung.\n",
    " * Bestimmen Sie aus diesem Verlauf den Wert für $T_{\\mathrm{Mix}}$ und vergleichen Sie mit dem Ergebnis aus **Aufgabe 1.2**.\n",
    " \n",
    "---"
   ]
  },
  {
   "cell_type": "markdown",
   "id": "2c34c948-28bd-4655-8281-06df219eee22",
   "metadata": {},
   "source": [
    "**Lösung:**\n",
    "\n",
    "*Fügen Sie Ihre Lösung zu dieser Aufgabe hier ein. Löschen Sie hierzu diesen kursiv gestellten Text aus dem Dokument. Um Code-Fragmente und Skripte in [Python](https://www.python.org/), sowie ggf. bildliche Darstellungen direkt ins [Jupyter notebook](https://jupyter.org/) einzubinden fügen Sie dem notebook eine Code-Zelle zu.* \n",
    "\n",
    "---"
   ]
  }
 ],
 "metadata": {
  "kernelspec": {
   "display_name": "Python 3 (ipykernel)",
   "language": "python",
   "name": "python3"
  },
  "language_info": {
   "codemirror_mode": {
    "name": "ipython",
    "version": 3
   },
   "file_extension": ".py",
   "mimetype": "text/x-python",
   "name": "python",
   "nbconvert_exporter": "python",
   "pygments_lexer": "ipython3",
   "version": "3.11.7"
  }
 },
 "nbformat": 4,
 "nbformat_minor": 5
}
