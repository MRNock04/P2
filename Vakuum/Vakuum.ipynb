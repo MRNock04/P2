{
 "cells": [
  {
   "cell_type": "markdown",
   "id": "89066e31-faf3-4ac9-a78a-a364e066ca84",
   "metadata": {},
   "source": [
    "# Fakultät für Physik\n",
    "\n",
    "## Physikalisches Praktikum P2 für Studierende der Physik\n",
    "\n",
    "Versuch P2-41, 42, 22 (Stand: April 2024)\n",
    "\n",
    "[Raum F1-19](https://labs.physik.kit.edu/img/Praktikum/Lageplan_P2.png)\n",
    "\n",
    "\n",
    "\n",
    "# Vakuum"
   ]
  },
  {
   "cell_type": "markdown",
   "id": "27cf71fa-c60c-45ed-a885-790064eb1939",
   "metadata": {},
   "source": [
    "Tin Vrkic E-Mail: uyvpq@student.kit.edu\n",
    "\n",
    "\\begin{equation*}\n",
    "\\begin{split}\n",
    "&\\\\\n",
    "&\\\\\n",
    "\\end{split}\n",
    "\\end{equation*}\n",
    "\n",
    "Mika Nock E-Mail: uttzi@student.kit.edu\n",
    "\n",
    "\\begin{equation*}\n",
    "\\begin{split}\n",
    "&\\\\\n",
    "&\\\\\n",
    "&\\\\\n",
    "\\end{split}\n",
    "\\end{equation*}\n",
    "\n",
    "Gruppennummer: Mo32\n",
    "\n",
    "\\begin{equation*}\n",
    "\\begin{split}\n",
    "&\\\\\n",
    "&\\\\\n",
    "&\\\\\n",
    "\\end{split}\n",
    "\\end{equation*}\n",
    "\n",
    "\n",
    "Betreuer:  \tMarcel Gaisdörfer\n",
    "\n",
    "\\begin{equation*}\n",
    "\\begin{split}\n",
    "&\\\\\n",
    "&\\\\\n",
    "&\\\\\n",
    "\\end{split}\n",
    "\\end{equation*}\n",
    "\n",
    "Versuch durchgeführt am: 13.05.2024"
   ]
  },
  {
   "cell_type": "markdown",
   "id": "a1410700-9bc1-4cc9-8192-c9aab9890af9",
   "metadata": {},
   "source": [
    "---\n",
    "\n",
    "**Beanstandungen zu Protokoll Version _____:**\n",
    "\n",
    "\\begin{equation*}\n",
    "\\begin{split}\n",
    "&\\\\\n",
    "&\\\\\n",
    "&\\\\\n",
    "&\\\\\n",
    "&\\\\\n",
    "&\\\\\n",
    "&\\\\\n",
    "&\\\\\n",
    "&\\\\\n",
    "&\\\\\n",
    "\\end{split}\n",
    "%\\text{\\vspace{10cm}}\n",
    "\\end{equation*}\n",
    "\n",
    "<br>\n",
    "Testiert am: __________________ Testat: __________________"
   ]
  },
  {
   "cell_type": "code",
   "execution_count": 2,
   "id": "7ab268de",
   "metadata": {},
   "outputs": [],
   "source": [
    "# importieren aller nötiger Module\n",
    "import matplotlib.pyplot as plt \n",
    "import numpy as np \n",
    "import pandas as pd\n",
    "import kafe2\n",
    "import pathlib"
   ]
  },
  {
   "cell_type": "code",
   "execution_count": 3,
   "id": "c4133f9d",
   "metadata": {},
   "outputs": [],
   "source": [
    "# erstellen einer Funktion für kafe2 Fits\n",
    "def fit_funktion(xy_data, model_function, xy_error, xy_label, title, constraint=[]):\n",
    "    xy_data = kafe2.XYContainer(xy_data[0], xy_data[1])\n",
    "    xy_data.label = title\n",
    "    fit = kafe2.XYFit(xy_data = xy_data, model_function = model_function)\n",
    "    fit.add_error(axis = 'x', err_val = xy_error[0])\n",
    "    fit.add_error(axis = 'y', err_val = xy_error[1])\n",
    "    for i in range(len(constraint)):\n",
    "        fit.add_parameter_constraint(name = constraint[i][0], value = constraint[i][1], uncertainty = constraint[i][2])\n",
    "    fit.do_fit()\n",
    "    plot = kafe2.Plot(fit)\n",
    "    plot.x_label, plot.y_label = xy_label[0], xy_label[1]\n",
    "    \n",
    "    return fit.parameter_values, fit.parameter_errors, plot"
   ]
  },
  {
   "cell_type": "markdown",
   "id": "9f649150-8b74-49d3-83fb-1facbc06934d",
   "metadata": {},
   "source": [
    "# Durchführung\n",
    "\n",
    "**Die Anleitung zu diesem Versuch finden Sie [hier](https://gitlab.kit.edu/kit/etp-lehre/p2-praktikum/students/-/blob/main/Vakuum/README.md).**"
   ]
  },
  {
   "cell_type": "markdown",
   "id": "f6193e61-35b0-4147-ba5b-cc9369e5b192",
   "metadata": {
    "jp-MarkdownHeadingCollapsed": true,
    "tags": []
   },
   "source": [
    "## Aufgabe 1: Versuchsaufbau\n",
    "\n",
    "**Hinweise zu Aufgabe 1 finden in der Datei [Hinweise-Versuchsdurchfuehrung.md](https://gitlab.kit.edu/kit/etp-lehre/p2-praktikum/students/-/blob/main/Vakuum/doc/Hinweise-Versuchsdurchfuehrung.md).**\n",
    "\n",
    " * Machen Sie sich mit dem Versuchsaufbau vertraut. \n",
    " * Bearbeiten Sie hierzu die folgenden Aufgaben."
   ]
  },
  {
   "cell_type": "markdown",
   "id": "64fe330f-c7d1-41e0-91af-a4b379848e20",
   "metadata": {
    "jp-MarkdownHeadingCollapsed": true,
    "tags": []
   },
   "source": [
    "### Aufgabe 1.1: Orientierung und Beschreibung des Versuchsaufbaus\n",
    "\n",
    " * Verschaffen Sie sich einen Überblick über die verwendeten Apparaturen und beschreiben Sie sie in eigenen Worten.  \n",
    " * Verfolgen Sie hierzu die Leitungen und identifizieren Sie die verwendeten Elemente in der zugehörigen Skizze. \n",
    "   \n",
    "---"
   ]
  },
  {
   "cell_type": "markdown",
   "id": "32ef6302-1c01-40d7-9c83-ea5c664f14a0",
   "metadata": {},
   "source": [
    "**Lösung:**\n",
    "\n",
    "*Fügen Sie Ihre Lösung zu dieser Aufgabe hier ein. Löschen Sie hierzu diesen kursiv gestellten Text aus dem Dokument. Um Code-Fragmente und Skripte in [Python](https://www.python.org/), sowie ggf. bildliche Darstellungen direkt ins [Jupyter notebook](https://jupyter.org/) einzubinden fügen Sie dem notebook eine Code-Zelle zu.* \n",
    "\n",
    "---"
   ]
  },
  {
   "cell_type": "markdown",
   "id": "660733e2-8145-4f32-9654-08c0f45b56b9",
   "metadata": {
    "jp-MarkdownHeadingCollapsed": true,
    "tags": []
   },
   "source": [
    "### Aufgabe 1.2: Gasentladung (Demonstrationsversuch)\n",
    "\n",
    " * Schalten Sie das Hochspannungsgerät zur Erzeugung der Gasentladungen ein.\n",
    " * Evakuieren Sie RZ und die Gasentladungsröhre gemeinsam mit Hilfe der DSP. \n",
    " * Senken Sie den Druck kontinuierlich, bis die Gasentladung erlischt. \n",
    " * Skizzieren und beschreiben Sie die Gasentladung in Abhängigkeit vom Gasdruck. \n",
    "\n",
    "---"
   ]
  },
  {
   "cell_type": "markdown",
   "id": "dcb3d760-7527-4b14-b5f5-ced25fb0258a",
   "metadata": {},
   "source": [
    "**Lösung:**\n",
    "\n",
    "*Fügen Sie Ihre Lösung zu dieser Aufgabe hier ein. Löschen Sie hierzu diesen kursiv gestellten Text aus dem Dokument. Um Code-Fragmente und Skripte in [Python](https://www.python.org/), sowie ggf. bildliche Darstellungen direkt ins [Jupyter notebook](https://jupyter.org/) einzubinden fügen Sie dem notebook eine Code-Zelle zu.* \n",
    "\n",
    "---"
   ]
  },
  {
   "cell_type": "markdown",
   "id": "6d7d2608-13c8-4244-98f6-978666bfeaba",
   "metadata": {
    "jp-MarkdownHeadingCollapsed": true,
    "tags": []
   },
   "source": [
    "## Aufgabe 2: Saugvermögen und Leitwert\n",
    "\n",
    "**Hinweise zu Aufgabe 1 finden in der Datei [Hinweise-Versuchsdurchfuehrung.md](https://gitlab.kit.edu/kit/etp-lehre/p2-praktikum/students/-/blob/main/Vakuum/doc/Hinweise-Versuchsdurchfuehrung.md).**\n",
    "\n",
    " - Untersuchen Sie das effektive Saugvermögen von DSP und TMP, sowie den Strömungsleitwert eines dünnen Rohrs. \n",
    " - Bearbeiten Sie hierzu die folgenden Aufgaben."
   ]
  },
  {
   "cell_type": "markdown",
   "id": "8265f1be-61c4-4334-be19-699e469c3398",
   "metadata": {
    "jp-MarkdownHeadingCollapsed": true,
    "tags": []
   },
   "source": [
    "### Aufgabe 2.1: Saugvermögen der DSP\n",
    "\n",
    "Evakuieren Sie die Apparatur mit Hilfe der DSP und stellen Sie die folgenden funktionalen Zusammenhänge des Druck jeweils **bei T1** geeignet graphisch dar:\n",
    " - Den Druck als Funktion der Zeit $p(t)$. \n",
    " - Das Saugvermögen als Funktion des Drucks $S(p)$.\n",
    "\n",
    "---"
   ]
  },
  {
   "cell_type": "markdown",
   "id": "b3bd7750",
   "metadata": {},
   "source": [
    "V2 zu und unsicherheit p = 10%\n",
    "vid1: 2.1, V2 zu\n",
    "vid2: 2.1, V2 auf"
   ]
  },
  {
   "cell_type": "code",
   "execution_count": 33,
   "id": "13def5a7-a0e5-4099-8465-fe63f5f654e1",
   "metadata": {},
   "outputs": [
    {
     "name": "stdout",
     "output_type": "stream",
     "text": [
      "(61,)\n",
      "(61,)\n",
      "(61,)\n"
     ]
    }
   ],
   "source": [
    "druck_2_1_zu = np.array([1000, 1000, 1.71, 0.266, 0.189, 0.157, 0.139, 0.126, 0.117, 0.108, 0.101, 0.0951,\n",
    "                         0.00902, 0.00863, 0.00828, 0.00796, 0.00770, 0.00744, 0.00716, 0.00692, 0.00669, 0.00646, 0.00629, 0.00614,\n",
    "                         0.00597, 0.00584, 0.00571, 0.00558, 0.00546, 0.00538, 0.00526, 0.00516, 0.00511, 0.00502, 0.00495, 0.00488,\n",
    "                         0.00482, 0.00473, 0.00465, 0.00457, 0.00450, 0.00445, 0.00434, 0.00428, 0.00422, 0.00416, 0.00410, 0.00404,\n",
    "                         0.00398, 0.00395, 0.00391, 0.00387, 0.00382, 0.00376, 0.00373, 0.00369, 0.00367, 0.00362, 0.00357, 0.00355,\n",
    "                         0.00352])\n",
    "druck_2_1_auf = np.array([1000, 1000, 1000, 1000, 1000, 1000, 460, 193, 113, 69.9, 45.8, 31.3,\n",
    "                          22.5, 15.9, 11.4, 8.33, 5.98, 4.44, 3.31, 2.48, 1.89, 1.48, 1.18, 0.934,\n",
    "                          0.763, 0.624, 0.526, 0.450, 0.385, 0.338, 0.301, 0.269, 0.242, 0.222, 0.207, 0.194,\n",
    "                          0.181, 0.171, 0.162, 0.154, 0.148, 0.142, 0.137, 0.133, 0.129, 0.126, 0.123, 0.121,\n",
    "                          0.118, 0.116, 0.113, 0.111, 0.109, 0.107, 0.106, 0.104, 0.103, 0.101, 0.100, 0.00991,\n",
    "                          0.00974])\n",
    "zeit_2_1  = np.linspace(0, 60, 61) * 5\n",
    "\n",
    "druck_2_1_std = 0.1 # 10%\n",
    "zeit_2_1_std = .1 #seconds\n",
    "V_rez= .0\n",
    "print(zeit_2_1.shape)\n",
    "print(druck_2_1_zu.shape)\n",
    "print(druck_2_1_auf.shape)"
   ]
  },
  {
   "cell_type": "code",
   "execution_count": 43,
   "id": "7cac7efc",
   "metadata": {},
   "outputs": [
    {
     "data": {
      "text/plain": [
       "<ErrorbarContainer object of 3 artists>"
      ]
     },
     "execution_count": 43,
     "metadata": {},
     "output_type": "execute_result"
    },
    {
     "data": {
      "image/png": "[encoded data removed]",
      "text/plain": [
       "<Figure size 640x480 with 2 Axes>"
      ]
     },
     "metadata": {},
     "output_type": "display_data"
    }
   ],
   "source": [
    "fig, ax = plt.subplots(2)\n",
    "ax[0].plot(zeit_2_1, druck_2_1_auf, \"rx\")\n",
    "ax[1].plot(zeit_2_1, np.log(druck_2_1_auf), \"bo\")\n",
    "ax[1].errorbar(zeit_2_1, np.log(druck_2_1_auf), yerr=(druck_2_1_auf*druck_2_1_std), fmt=\"none\")"
   ]
  },
  {
   "cell_type": "markdown",
   "id": "3edf8c1a-8093-424d-b71c-ffed083c79a8",
   "metadata": {
    "jp-MarkdownHeadingCollapsed": true,
    "tags": []
   },
   "source": [
    "### Aufgabe 2.2: Leitwert eines dünnen Rohrs\n",
    "\n",
    " - Bei der Verbindungsleitung L [hier](https://gitlab.kit.edu/kit/etp-lehre/p2-praktikum/students/-/blob/main/Vakuum/figures/VakuumSkizze.png) handelt es sich im Originalaufbau um einen Metallwellschlauch. Tauschen Sie diesen gegen das bereitliegende etwa gleichlange dünne Metallrohr aus.\n",
    " - Bestimmen Sie die Drucke $p_{1}$ (bei T1) vor und $p_{2}$ (bei T2) hinter dem Rohr als Funktion der Zeit. \n",
    " - Bestimmen Sie aus den gewonnenen Daten den Leitwert des Rohrs als Funktion des Drucks.\n",
    "\n",
    "---"
   ]
  },
  {
   "cell_type": "markdown",
   "id": "e2440b2e",
   "metadata": {},
   "source": [
    "vid3: 2.2"
   ]
  },
  {
   "cell_type": "code",
   "execution_count": null,
   "id": "824ddc4d-ac26-44c1-8c69-e90313d52617",
   "metadata": {},
   "outputs": [],
   "source": [
    "druck_p1_2_2 = np.array([1000, 1000, 1000, 1000, 1000, 1000, 1000, 1000, 750, 380, 245, 171,\n",
    "                         128, 102, 78.0, 64.4, 52.3, 43.9, 37.4, 31.4, 27.5, 24.1, 20.9, 18.4,\n",
    "                         16.3, 14.6, 12.9, 11.7, 10.6, 9.61, 8.91, 8.00, 7.25, 6.71, 6.26, 5.74,\n",
    "                         5.29, 4.90, 4.61, 4.29, 4.01, 3.76, 3.54, 3.33, 3.14, 2.97, 2.80, 2.67,\n",
    "                         2.53, 2.41, 2.30, 2.18, 2.09, 2.00, 1.91, 1.84, 1.76, 1.70, 1.64, 1.57,\n",
    "                         1.52])\n",
    "druck_p2_2_2 = np.array([1000, 1000, 1000, 1000, 1000, 1000, 1000, 1000, 1000, 1000, 1000, 1000,\n",
    "                         1000, 1000, 1000, 1000, 1000, 800, 530, 375, 288, 236, 196, 166,\n",
    "                         148, 131, 115, 106, 97.1, 89.3, 81.8, 75.4, 70.2, 66.4, 62.6, 59.3,\n",
    "                         56.1, 53.0, 50.1, 47.3, 45.3, 43.6, 42.1, 40.5, 39.2, 37.9, 36.4, 35.1,\n",
    "                         33.9, 32.8, 31.6, 30.5, 29.3, 28.5, 27.8, 27.1, 26.5, 26.0, 25.3, 24.6,\n",
    "                         24.1])\n",
    "\n",
    "zeit_p1_2_2 = np.linspace(0, 60, 61) * 5\n",
    "zeit_p2_2_2 = np.linspace(0, 60, 61) * 5\n",
    "zeit_2_2_std = .1"
   ]
  },
  {
   "cell_type": "code",
   "execution_count": null,
   "id": "4cef6caa",
   "metadata": {},
   "outputs": [
    {
     "data": {
      "text/plain": [
       "[<matplotlib.lines.Line2D at 0x1e204edfe50>]"
      ]
     },
     "execution_count": 21,
     "metadata": {},
     "output_type": "execute_result"
    },
    {
     "data": {
      "image/png": "[encoded data removed]",
      "text/plain": [
       "<Figure size 640x480 with 2 Axes>"
      ]
     },
     "metadata": {},
     "output_type": "display_data"
    }
   ],
   "source": [
    "fig, ax = plt.subplots(2)\n",
    "ax[0].plot(zeit_p1_2_2, druck_p1_2_2)\n",
    "ax[1].plot(zeit_p2_2_2, druck_p2_2_2)"
   ]
  },
  {
   "cell_type": "markdown",
   "id": "0ba91206-e004-4c1a-b373-2e67f979a67c",
   "metadata": {
    "jp-MarkdownHeadingCollapsed": true,
    "tags": []
   },
   "source": [
    "### Aufgabe 2.3: Saugvermögen der TMP\n",
    "\n",
    " - Nehmen Sie die TMP in Betrieb und bestimmen Sie analog zu **Aufgabe 2.1** das Saugvermögen der TMP als Funktion des Drucks bei IM. \n",
    " - Stellen Sie S(p) für die DSP und die TMP in einem Diagramm graphisch dar und diskutieren Sie Ihr Ergebnis.\n",
    " - Schätzen Sie die Kraft ab, mit der die Glasglocke auf die Gummidichtung gedrückt wird.\n",
    "\n",
    "---"
   ]
  },
  {
   "cell_type": "markdown",
   "id": "6ae83cb8",
   "metadata": {},
   "source": [
    "vid4: 2.3"
   ]
  },
  {
   "cell_type": "code",
   "execution_count": null,
   "id": "cc29074d-9701-4ec1-ae6a-79d9e4b6f6e9",
   "metadata": {},
   "outputs": [],
   "source": [
    "druck_hoch_t3 = np.array([])\n",
    "druck_niedrig_im = np.array([])"
   ]
  },
  {
   "cell_type": "markdown",
   "id": "c7b52bb9-ae42-4298-b14a-141cea21fffb",
   "metadata": {
    "jp-MarkdownHeadingCollapsed": true,
    "tags": []
   },
   "source": [
    "## Aufgabe 3: Experimente im Vakuum\n",
    "\n",
    "**Hinweise zu Aufgabe 1 finden in der Datei [Hinweise-Versuchsdurchfuehrung.md](https://gitlab.kit.edu/kit/etp-lehre/p2-praktikum/students/-/blob/main/Vakuum/doc/Hinweise-Versuchsdurchfuehrung.md).**\n",
    "\n",
    " - Für diese Aufgabe führen Sie einige einfache Experimente im Vakuum durch. \n",
    " - Bearbeiten Sie hierzu die folgenden Aufgaben. "
   ]
  },
  {
   "cell_type": "markdown",
   "id": "6e2a190c-eb0d-4a60-83e5-d9118e9ccefc",
   "metadata": {
    "jp-MarkdownHeadingCollapsed": true,
    "tags": []
   },
   "source": [
    "### Aufgabe 3.1: Statische Kalibration von T3\n",
    "\n",
    "Führen Sie mit Hilfe des Referenzvolumes RV eine statische Kalibration des Vakuummeters T3 durch.\n",
    "\n",
    "---"
   ]
  },
  {
   "cell_type": "code",
   "execution_count": null,
   "id": "8dc78b54-7666-4457-ad0b-0716ad3a37fa",
   "metadata": {},
   "outputs": [
    {
     "data": {
      "text/plain": [
       "(16,)"
      ]
     },
     "execution_count": 23,
     "metadata": {},
     "output_type": "execute_result"
    }
   ],
   "source": [
    "druck_t3 = np.array([3.19*10**(-2), 3.73, 7.78, 12.1, 16.3, 20.7, 26.0, 30.6, 36.1, 42.6, 47.0, 55.7, 61.9, 69.2, 76.6, 86.2])\n",
    "iter = druck_t3.shape"
   ]
  },
  {
   "cell_type": "markdown",
   "id": "79a35b76-2580-482e-b90b-a53977b5e53f",
   "metadata": {
    "jp-MarkdownHeadingCollapsed": true,
    "tags": []
   },
   "source": [
    "### Aufgabe 3.2: Elektrische Durchschlagfestigkeit\n",
    "\n",
    " - Bestimmen Sie die elektrische Durchschlagfestigkeit der KE als Funktion des Umgebungsdrucks in Luft. \n",
    " - Diese Aufgabe kann nur an den Apparaturen 41 und 42 durchgeführt werden. \n",
    "\n",
    "---"
   ]
  },
  {
   "cell_type": "markdown",
   "id": "243fd244",
   "metadata": {},
   "source": [
    "Multimeter 10Ohm Widerstand -> Faktor 10 Unterschied zu Spannungsquelle"
   ]
  },
  {
   "cell_type": "code",
   "execution_count": null,
   "id": "3be7af57-b3c2-4f1e-a028-a2d2920887f0",
   "metadata": {},
   "outputs": [],
   "source": [
    "# Druck an T3\n",
    "druck_3_2 = np.array([1000, 600, 276, 145, 71.4, 35.0, 17.4, 8.01, 4.15, 2.01, 1.00, 0.51, 0.266, 0.15, 0.09]) # mbar\n",
    "spannung_3_2 = np.array([319.5, 88, 80, 72, 61, 50, 41, 39, 36, 36, 33, 45, 48, 52, 47, 51]) * 10 # Volt, *10 wegen Multimeter\n",
    "spannung_std = 3\n",
    "druck_tmp_rückwärts = np.array([5.2*10**(-4), 8.8*10**(-4), 68*10**(-4), 92*10**(-4), 1260*10**(-4), ]) #mbar\n",
    "spannung_tmp = np.array([251, 150, 72, 62, 56]) * 10\n"
   ]
  },
  {
   "cell_type": "markdown",
   "id": "21028425-06e0-4e28-994a-187646cc8ee1",
   "metadata": {
    "jp-MarkdownHeadingCollapsed": true,
    "tags": []
   },
   "source": [
    "### Aufgabe 3.3: Aufdampfen von Indium\n",
    "\n",
    "Dampfen Sie mit Hilfe einer Schablone bei zwei verschiedenen Drucken Indium auf eine Plexiglasplatte auf.\n",
    "\n",
    "---"
   ]
  },
  {
   "cell_type": "markdown",
   "id": "b849f76a-0ffe-4b63-bf83-cb71bf57a012",
   "metadata": {},
   "source": [
    "**Lösung:**\n",
    "\n",
    "*Fügen Sie Ihre Lösung zu dieser Aufgabe hier ein. Löschen Sie hierzu diesen kursiv gestellten Text aus dem Dokument. Um Code-Fragmente und Skripte in [Python](https://www.python.org/), sowie ggf. bildliche Darstellungen direkt ins [Jupyter notebook](https://jupyter.org/) einzubinden fügen Sie dem notebook eine Code-Zelle zu.* \n",
    "\n",
    "---"
   ]
  }
 ],
 "metadata": {
  "kernelspec": {
   "display_name": "Python 3 (ipykernel)",
   "language": "python",
   "name": "python3"
  },
  "language_info": {
   "codemirror_mode": {
    "name": "ipython",
    "version": 3
   },
   "file_extension": ".py",
   "mimetype": "text/x-python",
   "name": "python",
   "nbconvert_exporter": "python",
   "pygments_lexer": "ipython3",
   "version": "3.9.18"
  }
 },
 "nbformat": 4,
 "nbformat_minor": 5
}
