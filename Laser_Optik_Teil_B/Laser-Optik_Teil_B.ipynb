{
 "cells": [
  {
   "cell_type": "markdown",
   "id": "c3a34d8c-d1c6-4c15-b525-fbedda4ea549",
   "metadata": {},
   "source": [
    "<img src=\"./figures/Logo_KIT.svg\" width=\"250\" height=\"250\" style=\"zoom:15%;float:right;\" />\n",
    "\n",
    "# Fakultät für Physik \n",
    "\n",
    "## Physikalisches Praktikum P2 für Studierende der Physik\n",
    "\n",
    "\n",
    "\n",
    "Versuch P2-23, 24, 25 (Stand: April 2023)\n",
    "\n",
    "[Raum F1-16](http://www-ekp.physik.uni-karlsruhe.de/~simonis/praktikum/layoutobjekte/Lageplan_P1.png)"
   ]
  },
  {
   "cell_type": "markdown",
   "id": "78bacdf3-fe59-457a-912e-0701624890fd",
   "metadata": {},
   "source": [
    "Tin Vrkic E-Mail: uyvpq@student.kit.edu\n",
    "\n",
    "\\begin{equation*}\n",
    "\\begin{split}\n",
    "&\\\\\n",
    "&\\\\\n",
    "\\end{split}\n",
    "\\end{equation*}\n",
    "\n",
    "Mika Nock E-Mail: uttzi@student.kit.edu\n",
    "\n",
    "\\begin{equation*}\n",
    "\\begin{split}\n",
    "&\\\\\n",
    "&\\\\\n",
    "&\\\\\n",
    "\\end{split}\n",
    "\\end{equation*}\n",
    "\n",
    "Gruppennummer: Mo32\n",
    "\n",
    "\\begin{equation*}\n",
    "\\begin{split}\n",
    "&\\\\\n",
    "&\\\\\n",
    "&\\\\\n",
    "\\end{split}\n",
    "\\end{equation*}\n",
    "\n",
    "\n",
    "Betreuer: Simon Geisert\n",
    "\n",
    "\\begin{equation*}\n",
    "\\begin{split}\n",
    "&\\\\\n",
    "&\\\\\n",
    "&\\\\\n",
    "\\end{split}\n",
    "\\end{equation*}\n",
    "\n",
    "Versuch durchgeführt am: 08.07.2024"
   ]
  },
  {
   "cell_type": "markdown",
   "id": "21574320-e0e0-4779-ac69-4f05d177b495",
   "metadata": {},
   "source": [
    "---\n",
    "\n",
    "**Beanstandungen:**\n",
    "\n",
    "\\begin{equation*}\n",
    "\\begin{split}\n",
    "&\\\\\n",
    "&\\\\\n",
    "&\\\\\n",
    "&\\\\\n",
    "&\\\\\n",
    "&\\\\\n",
    "&\\\\\n",
    "&\\\\\n",
    "&\\\\\n",
    "&\\\\\n",
    "\\end{split}\n",
    "%\\text{\\vspace{10cm}}\n",
    "\\end{equation*}\n",
    "\n",
    "<br>\n",
    "Testiert am: __________________ Vermerk: __________________"
   ]
  },
  {
   "cell_type": "markdown",
   "id": "bbd665a6-2251-4e9f-a36c-641685e57bd2",
   "metadata": {},
   "source": [
    "# Laser-Optik, Teil B\n",
    "\n",
    "## Motivation\n",
    "\n",
    "Im Versuch [Laser-Optik, Teil A](https://git.scc.kit.edu/etp-lehre/p2-for-students/-/tree/main/Laser-Optik_Teil_A) haben Sie sich mit Hilfe einfacher Messungen mit den grundlegenden Eigenschaften und den Anwendungen von Lasern vertraut gemacht. In diesem Versuch können Sie Ihre experimentellen Erfahrungen um die Anwendung komplexerer interferometrischer Methoden zur Bestimmung kleinster Längenänderungen und um die Untersuchung der Eigenschaften doppelbrechender Kristalle mit Hilfe von linear polarisiertem Laserlicht erweitern. Den eigentlichen Versuchsteilen ist ein Demonstrationsversuch zur Veranschaulichung der Fourier-Transformation und ihrer Bedeutung in der Physik vorangestellt, der nahtlos an die Aufgaben des Versuchs \"Laser-Optik, Teil A\" anschließt. Beachten Sie hierzu die Hinweise zu diesem Versuch.\n",
    "\n",
    "## Lernziele\n",
    "\n",
    "Wir listen im Folgenden die wichtigsten **Lernziele** auf, die wir Ihnen mit dem Versuch **Laser-Optik, Teil B** vermitteln möchten: \n",
    "\n",
    "- Sie untersuchen den Zusammenhang zwischen dem physikalischen Phänomen der Beugung, als Streuung von (kohärentem) Licht und der Fourier-Transformation, am Beispiel der Beugung am Einfachspalt. Dabei haben Sie die Möglichkeit eine vollautomatisierte Messanordnung genauer kennenzulernen.\n",
    "- Sie untersuchen zwei Anwendungen für exakte interferometrische Messungen kleinster Längenänderungen. Dabei handelt es sich um die sehr kleinen [(magnetostriktiven) Längenänderung](https://de.wikipedia.org/wiki/Magnetostriktion) von Nickel und um die direkte Bestimmung der Wellenlänge des verwendeten Laserlichts selbst.\n",
    "- Sie untersuchen den [Dopplereffekt von Licht](https://de.wikipedia.org/wiki/Doppler-Effekt#Longitudinaler_Doppler-Effekt), als intelligent durchdachte Anwendung des [Michelson-Interferometers](https://de.wikipedia.org/wiki/Michelson-Interferometer). \n",
    "- Sie verwenden die Eigenschaft der linearen Polarisation des Laserlichts um den (Kristall im $\\vec{B}$-Feld) [Faraday-](https://de.wikipedia.org/wiki/Faraday-Effekt) und (Kristall im $\\vec{E}$-Feld) [Pockels-Effekt](https://de.wikipedia.org/wiki/Pockels-Effekt) zu studieren. Dabei bestimmen Sie verschiedene Materialkonstanten entsprechender [doppelbrechender Kristalle](https://de.wikipedia.org/wiki/Doppelbrechung).\n",
    "- Sie untersuchen die [optische Aktivität](https://de.wikipedia.org/wiki/Optische_Aktivit%C3%A4t) von Zuckerlösungen. Auch hierzu verwenden Sie die Eigenschaft der linearen Polarisation des kohärenten Laserlichts."
   ]
  },
  {
   "cell_type": "markdown",
   "id": "4b37f0e0-399a-4df3-834d-29198f087b59",
   "metadata": {},
   "source": [
    "## Versuchsaufbau\n",
    "\n",
    "Auf einer optischen Bank können neben einem $\\mathrm{He}$-$\\mathrm{Ne}$-Laser die optischen Aufbauten für die durchzuführenden Versuche montiert werden. Die Versuche befinden sich in separaten Kabinen. Ein Beispielaufbau ist in der folgenden Photographie abgebildet: ([Link](https://git.scc.kit.edu/etp-lehre/p2-for-students/-/raw/main/Laser-Optik_Teil_B/figures/LaserB.jpg))   \n",
    "\n",
    "<img src=\"./figures/LaserB.jpg\" style=\"zoom:100%;\" />\n",
    "\n",
    "Für die verschiedenen Versuchsteile stehen Ihnen die folgenden Geräte und Materialien zur Verfügung: \n",
    "\n",
    "- Ein Experimentiertisch (mit $3\\,\\mathrm{m}$-Zeißschiene) mit diversen Verschiebereitern.\n",
    "- Ein $2\\,\\mathrm{mW}$-$\\mathrm{He}$-$\\mathrm{Ne}$-Laser mit $\\lambda_{0}=632,8\\,\\mathrm{nm}$ Wellenlänge (in geschlossener Bauweise mit integriertem Netzteil, mit polarisiertem Licht). \n",
    "- Ein Strahlaufweitungssystem (wie im Versuch Laser-Optik, Teil A), Justieraufbau mit Fassungen, Halter für Linsen und Blenden und ein großer weißer Schirm.\n",
    "- Ein Multimeter (Voltcraft in verschiedenen Ausführungen).\n",
    "- Ein Ampèremeter (Gossen Manometer, ohne Zusatzwiderstände $100\\,\\mathrm{mV}/1\\,\\mathrm{mA}$ (Vorsicht bei der Bedienung!), dazu [Shunt](https://de.wikipedia.org/wiki/Shunt_(Elektrotechnik))-Widerstände für $500\\,\\mathrm{mA}$ und für $5\\,\\mathrm{A}$ zur Messung der Spulenströme.\n",
    "- Ein Funktionsgenerator FG 800/$0,2\\,\\mathrm{Hz}–200\\,\\mathrm{kHz}$.\n",
    "- Ein Netzgerät für die Gleichspannung an der Pockelszelle, einstellbar bis $\\approx1900\\,\\mathrm{V}$ mit integriertem Modulationstransformator.\n",
    "- Jeweils ein Nieder (NF)- und Audiofrequenz(AF)-Verstärker.\n",
    "- Ein Stromversorgungsgerät/Labor-Netzgerät (stufenlos und kurzzeitig bis zu $4\\,\\mathrm{A}$ einstellbar).\n",
    "- Ein Glan-Thompson Polarisationsfilter; Durchmesser $d=10\\,\\mathrm{mm}$, auf einem Stift drehbar montiert mit Winkelskala ([Extinktionsverhältnis](https://de.wikipedia.org/wiki/Extinktionsverh%C3%A4ltnis): $10^{5}/1$). **Diesen Filter dürfen Sie nicht im unaufgeweiteten Strahl benutzen!**\n",
    "- In $25\\,\\mathrm{mm}$-Fassungen:\n",
    "  - Ein Polarisationsfilter ohne Skala (nicht an allen Plätzen verfügbar),\n",
    "  - Ein Spalt der Breite $b=0,4\\,\\mathrm{mm}$,\n",
    "  - Eine Lochblende mit Durchmesser $d=1\\,\\mathrm{mm}$ (nicht an allen Plätzen verfügbar),\n",
    "  - Eine Irisblende,\n",
    "  - Ein [Achromat](https://de.wikipedia.org/wiki/Achromat) mit Brennweite $f=10\\,\\mathrm{mm}$,\n",
    "  - Sammellinsen mit Brennweiten $f=30\\,\\mathrm{mm}$, $60\\,\\mathrm{mm}$\n",
    "    und $150\\,\\mathrm{mm}$ (die Linse mit $f=60\\,\\mathrm{mm}$ ist nicht an allen Plätzen verfügbar),\n",
    "  - Tischlampe, Taschenlampe, 2 Laserschutzbrillen (nicht vollständigan allen Plätzen verfügbar).\n",
    "\n",
    "- Im Schrank:\n",
    "  - Lichtdetektor Si-Photoelement BPW34 (kleinflächig), $2,7\\,\\mathrm{mm}\\times2,7\\,\\mathrm{mm}$, nur im Elementbetrieb, d.h. ohne Betriebsspannung direkt an Spannungs- oder Strommessgerät angeschlossen, zu verwenden. Der Anschluss erfolgt an den mit \"+\" und \"-\" bezeichneten Stiften mit jeweils spezieller Leitung (einfach vorhanden).\n",
    "  - Lichtdetektor Si-Photoelement, Durchmesser $d=12\\,\\mathrm{mm}$, wie bei Versuchsteil A (einfach vorhanden).\n",
    "  - Lichtdetektor für moduliertes Licht (mit Photoelement $2,7\\,\\mathrm{mm}\\times2,7\\,\\mathrm{mm}$, NF-Verstärker und Lautsprecher).\n",
    "  - Ein Michelson-Interferometer mit Feinverstellung eines Spiegels durch $(10:1)$-Hebeluntersetzung und Mikrometerschraube, eine dazu aufsteckbare Antriebsrolle für Motorantrieb (drei mal vorhanden).\n",
    "  - Ein Michelson-Interferometer, ein Spiegel auf einem $\\mathrm{Ni}$- bzw. $\\mathrm{Fe}$-Stab befestigt, Länge $\\ell=105\\,\\mathrm{mm}$, in einer Spule mit $n=2000$ Windungen (jeweils einmal vorhanden).\n",
    "  - Ein Synchronmotor ($1\\,\\mathrm{U/min}$, mit Antriebsrolle und Gummiriemen für die Bewegung des Interferometerspiegels).\n",
    "  - Eine Küvette ($198\\,\\mathrm{mm}\\times58\\,\\mathrm{mm}$), in einem Halter auf einem Stift, für optisch aktive Lösungen (zweimal in Plastik- und einmal in Glasausführung).\n",
    "  - Haushaltszucker in zwei Gefäßen.\n",
    "  - Eine Chemikalienwaage, $1\\times$ Mettler H 315 auf einem Wägetisch und drei verschiedene mechanische Waagen.\n",
    "  - Bechergläser, Messzylinder, Trichter.\n",
    "  - Sorbose-Lösung (optisch aktiv, linksdrehend, Massenkonzentration $\\beta=0,33\\,\\mathrm{g\\,cm^{-3}}$).\n",
    "  - Faraday-Modulator, Bleisilikatglas der Länge $\\ell=75\\,\\mathrm{mm}$ in einer Spule mit $n=800$ Windungen.\n",
    "  - Ein Radioapparat mit Zweitlautsprecherausgang und zugehöriger Anschlussleitung, als Modulationsquelle.\n",
    "  - Ein Lichtdetektor für moduliertes Licht (mit Photoelement $2,7\\,\\mathrm{mm}\\times2,7\\,\\mathrm{mm}$, NF-Verstärker und Lautsprecher).\n",
    "  - Pockelszelle im Drehhalter mit Skala zur Angabe des Winkels zwischen Feld- und Laserpolarisationsrichtung, Lithiumniobat-Kristall,\n",
    "    Höhe $h=2\\,\\mathrm{mm}$ (entspricht dem Elektrodenabstand), Länge $\\ell=20\\,\\mathrm{mm}$, optische Achse parallel zur Feldrichtung.\n",
    "  - Stimmgabel $1700\\,\\mathrm{Hz}$ ($2\\times$), Maßband ($1\\times$) , Stoppuhr ($5\\times$).\n",
    "  - Aufbau für die optische Bank mit Fototransistor, Schrittmotor und Endschaltern.\n",
    "  - Vorverstärker, Schrittmotor- und Relais-Schnittstelle.\n",
    "  - 2 Laserschutzbrillen (für das Betreuungspersonal).\n",
    "  - Rechner (IBM-kompatibler PC 386SX) mit VGA-Graphikkarte, Graphik-Drucker, Maus, Festplatte, $1,2\\,\\mathrm{MB}$ und $1,44\\,\\mathrm{MB}$-Laufwerk und spezieller Schnittstellen-Karte (ADC, DAC, PIO), (nur einmal vorhanden).\n",
    "\n",
    "\n",
    "\n",
    "## Wichtige Hinweise\n",
    "\n",
    "- Bei diesem Versuch arbeiten Sie mit einem Laser, der entsprechend **gefährlich für Ihre Augen** sein kann. Gehen Sie daher **vorsichtig und verantwortungsbewusst** mit dem Laser um und halten Sie sich an die Anweisungen des/der Tutor:in.\n",
    "- Achten Sie darauf, dass alle Personen im Raum bei der Durchführung des Versuchs eine **Schutzbrille** tragen. \n",
    "- Vermeiden Sie direkten Blickkontakt mit dem Laserstrahl und richten Sie ihn niemals auf andere Personen. Bleiben Sie beim Experimentieren in der Regel stehen, mit den Augen also weit oberhalb der Strahlhöhe.\n",
    "- Stellen Sie sicher, dass die Laserleistung und -frequenz auf die vorgesehenen Werte eingestellt sind und überprüfen Sie dies regelmäßig während des Experiments.\n",
    "- Beachten Sie, dass der Laserstrahl bei falscher Handhabung Schäden an optischen Elementen verursachen kann. Verwenden Sie nur die bereitgestellten optischen Elemente und reinigen Sie sie nur mit geeigneten Materialien.\n",
    "- Vor dem Einschalten des Lasers müssen alle Geräte sorgfältig aufgebaut und justiert werden. Führen Sie diese Schritte **erst nach Rücksprache mit dem/der Tutor:in** durch."
   ]
  },
  {
   "cell_type": "code",
   "execution_count": 2,
   "id": "5572a390",
   "metadata": {},
   "outputs": [],
   "source": [
    "import pathlib\n",
    "import pandas as pd\n",
    "import numpy as np\n",
    "import kafe2\n",
    "import scipy as sc\n",
    "import matplotlib.pyplot as plt\n",
    "from uncertainties import ufloat, unumpy as unp"
   ]
  },
  {
   "cell_type": "code",
   "execution_count": 3,
   "id": "fccab3c0",
   "metadata": {},
   "outputs": [],
   "source": [
    "# erstellen einer Funktion für kafe2 Fits\n",
    "def fit_funktion(xy_data, model_function, xy_error, xy_label, title, constraint=[], add_error=True):\n",
    "    xy_data = kafe2.XYContainer(xy_data[0], xy_data[1])\n",
    "    xy_data.label = title\n",
    "    fit = kafe2.XYFit(xy_data = xy_data, model_function = model_function)\n",
    "    if add_error:\n",
    "        fit.add_error(axis = 'x', err_val = xy_error[0])\n",
    "        fit.add_error(axis = 'y', err_val = xy_error[1])\n",
    "    for i in range(len(constraint)):\n",
    "        fit.add_parameter_constraint(name = constraint[i][0], value = constraint[i][1], uncertainty = constraint[i][2])\n",
    "    fit.do_fit()\n",
    "    plot = kafe2.Plot(fit)\n",
    "    plot.x_label, plot.y_label = xy_label[0], xy_label[1]\n",
    "    \n",
    "    return fit.parameter_values, fit.parameter_errors, plot\n",
    "\n",
    "def weighted_mean_gauss(arr):\n",
    "    res = np.sum( unp.nominal_values(arr) / unp.std_devs(arr) ) / np.sum( 1 / unp.std_devs(arr) )\n",
    "    return res\n",
    "\n",
    "def std_weighted_mean_gauss(arr):\n",
    "    N = unp.nominal_values(arr).size\n",
    "    arr_bar = weighted_mean_gauss(arr)\n",
    "    return np.sqrt( (N/(N-1)) * np.sum( (unp.nominal_values(arr)-arr_bar)**2 / unp.std_devs(arr) ) / np.sum( 1/unp.std_devs(arr) ) )"
   ]
  },
  {
   "cell_type": "markdown",
   "id": "505df147-2a3f-42d0-a4ef-6031d5bed5aa",
   "metadata": {},
   "source": [
    "## Durchführung\n",
    "\n",
    "### **Aufgabe 1: Beugungsbild eines Spalts**\n",
    "\n",
    "Hierbei handelt es sich um einen **Demonstrationsversuch**. Er soll von allen Gruppen gemeinsam und mit Unterstützung des Betreuers durchgeführt werden. Mithilfe eines auf einen Schrittmotor montierten Phototransistors messen Sie das Beugungsbild eines Spalts aus, der mit einem $\\mathrm{He}$-$\\mathrm{Ne}$-Laser ausgeleuchtet wird. Die gewonnenen Daten werden auf einem bereitstehenden Computer verarbeitet; aus der [Fourier-Rücktransformation](https://de.wikipedia.org/wiki/Fourier-Transformation) des aufgezeichneten Beugungsbildes erhalten Sie das Bild des Spalts. Dokumentieren und diskutieren Sie Ihre Beobachtungen. \n",
    "\n",
    "---"
   ]
  },
  {
   "cell_type": "markdown",
   "id": "b7c785c2-0dd4-4689-93a0-3301692f7885",
   "metadata": {},
   "source": [
    "![einzelspalt](Bilder/Einzelspalt_Intensität.jpeg)\n",
    "![FFT](Bilder/FFT_Einzelspalt.jpeg)"
   ]
  },
  {
   "cell_type": "markdown",
   "id": "bb155325-16ac-46db-b8fe-c3189fdf0ba8",
   "metadata": {},
   "source": [
    "### **Aufgabe 2: Anwendungen des [Michelson-Interferometers](https://en.wikipedia.org/wiki/Michelson_interferometer)**\n",
    "\n",
    "**2.1:** Beobachten Sie interferometrisch die sehr geringe Abhängigkeit der Länge von Nickel vom Magnetfeld $\\vec{H}$ und bestimmen Sie den [Magnetostriktionskoeffizienten](https://de.wikipedia.org/wiki/Magnetostriktion).\n",
    "\n",
    "**2.2:** Bestimmen Sie aus den beobachteten Änderungen des Interferenzbildes bei gemessener Verschiebung eines der Spiegel die Wellenlänge des Laserlichts.\n",
    "\n",
    "**2.3:** Demonstrieren Sie den \"[Dopplereffekt](https://de.wikipedia.org/wiki/Doppler-Effekt#Longitudinaler_Doppler-Effekt)\" mit Lichtwellen im Fall $v\\ll c$ und messen Sie $v$ interferometrisch.\n",
    "\n",
    "**2.4:** Bewegen Sie eine schwingende Stimmgabel von Ihrem Ohr weg und auf Ihr Ohr zu und zwar einmal mit und einmal ohne eine reflektierende Wand in der Nähe (akustisches Analogon zu Aufgabe 2.3). Dokumentieren und disutieren Sie Ihre Beobachtungen.\n",
    "\n",
    "---"
   ]
  },
  {
   "cell_type": "markdown",
   "id": "d3dc671f",
   "metadata": {},
   "source": [
    "# 2.1"
   ]
  },
  {
   "cell_type": "code",
   "execution_count": 16,
   "id": "571865bf-a444-4fea-ab2a-292db2fe5673",
   "metadata": {},
   "outputs": [
    {
     "data": {
      "text/plain": [
       "<ErrorbarContainer object of 3 artists>"
      ]
     },
     "execution_count": 16,
     "metadata": {},
     "output_type": "execute_result"
    },
    {
     "data": {
      "image/png": "[encoded data removed]",
      "text/plain": [
       "<Figure size 640x480 with 1 Axes>"
      ]
     },
     "metadata": {},
     "output_type": "display_data"
    }
   ],
   "source": [
    "# Ströme, bei denen Minima auftreten, Afg. 2.1, in Ampere\n",
    "strom_21_pos = unp.uarray([0.097, 0.207, 0.317, 0.400, 0.543], [0.005])\n",
    "# negative Werte nachdem Interferometer komplett entfernt und wieder eingebaut wurde, in Ampere\n",
    "strom_21_neg = unp.uarray([-0.080, -0.271, -0.301, -0.362, -0.517], [0.005])\n",
    "\n",
    "plt.errorbar(np.arange(1, 6), unp.nominal_values(strom_21_pos), yerr=unp.std_devs(strom_21_pos), fmt=\"rx\")\n",
    "plt.errorbar(np.arange(1, 6)[::-1]*(-1), unp.nominal_values(strom_21_neg)[::-1], yerr=unp.std_devs(strom_21_pos), fmt=\"gx\")\n"
   ]
  },
  {
   "cell_type": "markdown",
   "id": "b5eb3857",
   "metadata": {},
   "source": [
    "# 2.2"
   ]
  },
  {
   "cell_type": "code",
   "execution_count": 34,
   "id": "532821b3",
   "metadata": {},
   "outputs": [
    {
     "data": {
      "text/plain": [
       "15"
      ]
     },
     "execution_count": 34,
     "metadata": {},
     "output_type": "execute_result"
    },
    {
     "data": {
      "image/png": "[encoded data removed]",
      "text/plain": [
       "<Figure size 640x480 with 1 Axes>"
      ]
     },
     "metadata": {},
     "output_type": "display_data"
    }
   ],
   "source": [
    "# Position jedes 10. Minimums\n",
    "delta_x = unp.uarray([172, 175, 178, 181, 184, 187, 190, 192, 195, 198, 201, 204, 207, 209, 212],[3]) * 10**-6\n",
    "plt.errorbar(np.arange(0,unp.nominal_values(delta_x).size)*10, unp.nominal_values(delta_x), yerr=unp.std_devs(delta_x), fmt=\"rx\")\n",
    "unp.nominal_values(delta_x).size"
   ]
  },
  {
   "cell_type": "markdown",
   "id": "c3cc6c01",
   "metadata": {},
   "source": [
    "Aus \"Wellenlänge\" des bestimmmten Laserlichts bekommt man die Abweichung von der tatsächlichen Messskala der Verschiebung, da Wellenlänge eigentlich bekannt ist mit 632.8nm (He-Ne Laser)"
   ]
  },
  {
   "cell_type": "markdown",
   "id": "1dcacc64",
   "metadata": {},
   "source": [
    "# 2.3\n",
    "\n",
    "Geschwindigkeit auf 2 verschiedene Weisen:  \n",
    "1. Zeit zwischen 10 Minima messen -> Geschwindigkeit vom Motor  \n",
    "2. Zeit für 2um messen -> Geschwindigkeit vom Motor  \n",
    "-> vergleichen"
   ]
  },
  {
   "cell_type": "code",
   "execution_count": 45,
   "id": "8853433f",
   "metadata": {},
   "outputs": [
    {
     "data": {
      "text/plain": [
       "9.624444444444444"
      ]
     },
     "execution_count": 45,
     "metadata": {},
     "output_type": "execute_result"
    },
    {
     "data": {
      "image/png": "[encoded data removed]",
      "text/plain": [
       "<Figure size 640x480 with 1 Axes>"
      ]
     },
     "metadata": {},
     "output_type": "display_data"
    }
   ],
   "source": [
    "# Es wird die Zeit für 10. Minima gestoppt -> Geschwindigkeit\n",
    "delta_t1 = unp.uarray([16.81, 15.35, 16.06, 15.57, 14.95, 14.90, 14.39, 15.47, 14.95, 15.35],[.2]) # Sekunden\n",
    "\n",
    "# Als seperate Messreihe, mit gleicher Geschwindigkeit\n",
    "# Zeit die der Motor für 2.0um benötigt -> Geschwindigkeit\n",
    "delta_t2 = unp.uarray([10.45, 9.13, 9.89, 10.39, 8.77, 10.43, 8.90, 8.87, 9.79],[.2]) # Sekunden\n",
    "\n",
    "plt.errorbar(np.arange(0,unp.nominal_values(delta_t1).size)*10, unp.nominal_values(delta_t1), yerr=unp.std_devs(delta_t1), fmt=\"rx\")\n",
    "plt.errorbar(np.arange(0,unp.nominal_values(delta_t2).size)*10, unp.nominal_values(delta_t2), yerr=unp.std_devs(delta_t2), fmt=\"gx\")\n",
    "weighted_mean_gauss(delta_t1)\n",
    "weighted_mean_gauss(delta_t2)\n",
    "# weighted_mean_gauss(positionen)"
   ]
  },
  {
   "cell_type": "markdown",
   "id": "31e055c7-d41a-4314-97a6-4f274bf6bf47",
   "metadata": {},
   "source": [
    "### **Aufgabe 3: Faraday- und Pockels-Effekt**\n",
    "\n",
    "**3.1:**  Modulieren Sie die Intensität des Laserlichts durch Anwendung des [Faraday-Effekts](https://de.wikipedia.org/wiki/Faraday-Effekt), indem Sie das linear polarisierte Laserlicht erst einen Stab aus Bleisilikatglas im longitudinalen Magnetfeld einer Spule und dann einen Polarisationsfilter durchlaufen lassen.\n",
    "\n",
    "**3.2:** Bestimmen Sie die [Verdet-Konstante](https://de.wikipedia.org/wiki/Verdet-Konstante) \n",
    "\n",
    "\\begin{equation*}\n",
    "V \\equiv \\frac{\\alpha}{B\\,l}\n",
    "\\end{equation*}\n",
    "\n",
    "\n",
    "\n",
    "von Bleisilikatglas, wobei $B$ der Magnetfeldstärke und $l$ der Länge des Stabs entsprechen und $\\alpha$ der Winkel ist, um den das linear polarisierte Licht beim Durchlaufen des Stabs gedreht wurde.\n",
    "\n",
    "**3.3:**  Modulieren Sie die Intensität des Laserlichts durch Anwendung des [Pockels-Effekts](https://de.wikipedia.org/wiki/Pockels-Effekt), indem Sie das linear polarisierte Laserlicht einen Lithiumniobat-Kristall mit transversalem elektrischen Feld (Feldrichtung $45°$ gegen die Polarisationsrichtung des Laserlichts gedreht) und ein Polarisationsfilter ($90°$ gegen die Polarisationsrichtung des Laserlichts gedreht) durchlaufen lassen.\n",
    "\n",
    "**3.4:** Bestimmen Sie die Konstante \n",
    "\n",
    "\\begin{equation*}\n",
    "k \\equiv \\frac{\\Delta n(E)}{E}\n",
    "\\end{equation*}\n",
    "\n",
    "für den Pockels-Effekt bei Lithiumniobat für die Wellenlänge des Laserlichts, wobei $\\Delta n(E)$ der Änderung des Brechungsindex und $E$ der elektrischen Feldstärke entsprechen.\n",
    "\n",
    "---"
   ]
  },
  {
   "cell_type": "markdown",
   "id": "402b85f7-3cca-4144-9555-40600dbe9095",
   "metadata": {},
   "source": [
    "# 3.2"
   ]
  },
  {
   "cell_type": "code",
   "execution_count": 52,
   "id": "8edb1b79",
   "metadata": {},
   "outputs": [
    {
     "data": {
      "text/plain": [
       "<ErrorbarContainer object of 3 artists>"
      ]
     },
     "execution_count": 52,
     "metadata": {},
     "output_type": "execute_result"
    },
    {
     "data": {
      "image/png": "[encoded data removed]",
      "text/plain": [
       "<Figure size 640x480 with 1 Axes>"
      ]
     },
     "metadata": {},
     "output_type": "display_data"
    }
   ],
   "source": [
    "ströme_32 = unp.uarray([-3.07, -2.12, -1.06, 0.61, 1.17, 2.18, 3.14], [0.05])\n",
    "alpha0 = ufloat(15, 1) # °C\n",
    "delta_alpha = alpha0 - unp.uarray([13, 13, 14, 16, 16, 17, 18], [.5])\n",
    "plt.errorbar(unp.nominal_values(ströme_32), unp.nominal_values(delta_alpha), xerr=unp.std_devs(ströme_32), yerr=unp.std_devs(delta_alpha), fmt=\"rx\")\n"
   ]
  },
  {
   "cell_type": "markdown",
   "id": "1e4c4c4b",
   "metadata": {},
   "source": [
    "# 3.3"
   ]
  },
  {
   "cell_type": "code",
   "execution_count": 54,
   "id": "872329b1",
   "metadata": {},
   "outputs": [
    {
     "data": {
      "text/plain": [
       "[<matplotlib.lines.Line2D at 0x1f57a893f70>]"
      ]
     },
     "execution_count": 54,
     "metadata": {},
     "output_type": "execute_result"
    },
    {
     "data": {
      "image/png": "[encoded data removed]",
      "text/plain": [
       "<Figure size 640x480 with 1 Axes>"
      ]
     },
     "metadata": {},
     "output_type": "display_data"
    }
   ],
   "source": [
    "# Spanngen, bei denen 1., 2., ... Minimum auftritt\n",
    "# -3. bis 3. Minimum\n",
    "spannungen = unp.uarray([-1713, -1205, -527, 268, 915, 1557, ],[35])\n",
    "plt.plot(unp.nominal_values(spannungen), \"rx\")"
   ]
  },
  {
   "cell_type": "markdown",
   "id": "a494a5b3-e827-42dd-bce9-f1cc934f0475",
   "metadata": {},
   "source": [
    "### **Aufgabe 4: [Optische Aktivität](https://de.wikipedia.org/wiki/Optische_Aktivit%C3%A4t) (Saccharimetrie)**\n",
    "\n",
    "**4.1:** Bestimmen Sie den [spezifischen Drehwinkel](https://de.wikipedia.org/wiki/Optische_Aktivit%C3%A4t#Spezifischer_Drehwinkel) \n",
    "\n",
    "\\begin{equation*}\n",
    "\\left[\\alpha\\right]_{\\lambda}^{T} = \\frac{\\alpha}{\\beta\\,\\ell}\n",
    "\\end{equation*}\n",
    "\n",
    "\n",
    "\n",
    "einer Haushaltszuckerlösung bei verschiedenen Massenkonzentrationen $\\beta$ (gemessen in $\\mathrm{g\\,cm^{-3}}$) sowie die Drehrichtung. Dabei entsprechen $\\alpha$ dem unspezifischen (gemessenen) Drehwinkel gemessen in $^{\\circ}$ und $\\ell$ der Länge des Lichtweges durch die Lösung (gemessen in $\\mathrm{dm}$). Zeigen Sie, dass $\\alpha\\propto\\ell$ und $\\alpha\\propto \\beta$ gilt.  \n",
    "\n",
    "Zum Nachweis von $\\alpha\\propto\\ell$ genügt es zwei Messwerte aufzunehmen bei denen die Küvette mit der Probelösung einmal längs und einmal quer durchstrahlt wird. Zum Nachweis von $\\alpha\\propto\\beta$ beginnen Sie z.B. bei $\\beta\\approx 0,3\\,\\mathrm{g\\,cm^{-3}}$ und reduzieren Sie die Konzentration, indem Sie Wasser zugießen. Diskutieren Sie von welchen weiteren Parametern $\\alpha$ noch abhängt. \n",
    "\n",
    "Wenn Sie die Konzentration ändern, während Sie den durchtretenden Laserstrahl beobachten, scheint dieser \"krummen Bahnen\" zu folgen. Beachten Sie Ähnlichkeiten zwischen der optischen Aktivität und dem Faraday-Effekt.\n",
    "\n",
    "**4.2:** Bestimmen Sie den spezifischen Drehwinkel einer entgegengesetzt drehenden [Sorbose](https://de.wikipedia.org/wiki/Sorbose)-Lösung mit vorgegebener Konzentration.\n",
    "\n",
    "---"
   ]
  },
  {
   "cell_type": "markdown",
   "id": "4048c9be-0b7a-48e6-a537-d2841f3052f6",
   "metadata": {},
   "source": [
    "# 4.1"
   ]
  },
  {
   "cell_type": "code",
   "execution_count": null,
   "id": "eac1d9e6",
   "metadata": {},
   "outputs": [],
   "source": [
    "# Volumen des Wassers\n",
    "volumina_zucker = np.array([1, 2, 3, 4, 5, 6]) * 100 # ml\n",
    "# Konzetration an Zucker in g/ml, mit 30g Zucker\n",
    "konzentrationen_zucker = 30 / volumina_zucker # g/ml\n",
    "# Winkel, wenn Strahl längs und quer durch Flüssigkeit läuft\n",
    "winkel_längs_zucker = unp.uarray([32, 30, 26, 23, 21, 20], [1])\n",
    "winkel_quer_zucker = unp.uarray([20, 19, 18, 18, 17, 17], [1])\n",
    "\n",
    "konzentration_sorbose = 0.33 #g/ml\n",
    "winkel_längs_sorbose = ufloat(355, 1)\n",
    "winkel_quer_sorbose = ufloat(9, 1)\n",
    "\n",
    "\n",
    "# der länge nach, breite\n",
    "länge_behälter = unp.uarray([20.6, 6.5],[0.05]) #cm"
   ]
  }
 ],
 "metadata": {
  "kernelspec": {
   "display_name": "Python 3 (ipykernel)",
   "language": "python",
   "name": "python3"
  },
  "language_info": {
   "codemirror_mode": {
    "name": "ipython",
    "version": 3
   },
   "file_extension": ".py",
   "mimetype": "text/x-python",
   "name": "python",
   "nbconvert_exporter": "python",
   "pygments_lexer": "ipython3",
   "version": "3.9.18"
  }
 },
 "nbformat": 4,
 "nbformat_minor": 5
}
